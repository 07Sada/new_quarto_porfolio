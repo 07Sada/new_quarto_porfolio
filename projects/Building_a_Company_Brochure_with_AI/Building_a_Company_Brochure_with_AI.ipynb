{
 "cells": [
  {
   "cell_type": "markdown",
   "id": "f139d2ee",
   "metadata": {},
   "source": [
    "---\n",
    "title: Building a Company Brochure with AI\n",
    "author: Sadashiv\n",
    "execute:\n",
    "  echo: true  # Optional: prevents code from being printed in the output\n",
    "  eval: false  # Prevents the notebook from being re-executed during render\n",
    "  freeze: auto  # Preserves existing outputs if the notebook has already been executed\n",
    "format: html\n",
    "date: 05-04-2025\n",
    "image: Building_a_Company_Brochure_with_AI.jpg\n",
    "---"
   ]
  },
  {
   "cell_type": "markdown",
   "id": "98ccfd1e",
   "metadata": {},
   "source": [
    "This project demonstrates how to create a company brochure using AI. By leveraging web scraping and OpenAI's GPT-4o-mini, we can efficiently gather information from a company's website and generate compelling content for prospective clients, investors, and potential recruits. This approach streamlines the brochure creation process, making it faster and more cost-effective.\n",
    "\n",
    "### Project Overview\n",
    "\n",
    "The project involves scraping a company's website, identifying relevant links, and using the scraped content to automatically generate a brochure. We use Python for web scraping and data processing, and the OpenAI API to generate the brochure's content.\n",
    "\n",
    "### Key Technologies\n",
    "\n",
    "* **Python**: The primary programming language used for web scraping, data processing, and interacting with the OpenAI API.\n",
    "* **Beautiful Soup**: A Python library for parsing HTML and XML documents, used here to extract information from web pages.\n",
    "* **OpenAI API**: Used to generate the brochure content, leveraging the GPT-4o-mini model for its natural language processing capabilities."
   ]
  },
  {
   "cell_type": "markdown",
   "id": "32e1330f",
   "metadata": {},
   "source": [
    "### Implementation"
   ]
  },
  {
   "cell_type": "markdown",
   "id": "04dd920f",
   "metadata": {},
   "source": [
    "#### 1. Importing Libraries"
   ]
  },
  {
   "cell_type": "code",
   "execution_count": null,
   "id": "1019618c",
   "metadata": {},
   "outputs": [],
   "source": [
    "# Import the libraries\n",
    "import os # For interacting with the operating system, e.g., accessing environment variables.\n",
    "import requests # For making HTTP requests to fetch webpage content.\n",
    "import json # For working with JSON data, which is used for structuring the API responses.\n",
    "from typing import List # For type hinting\n",
    "from dotenv import load_dotenv # For loading environment variables from a .env file.\n",
    "from bs4 import BeautifulSoup # For parsing HTML content, making it easier to extract specific data.\n",
    "from IPython.display import display, Markdown # For displaying formatted text (Markdown) in the notebook.\n",
    "from openai import OpenAI # For interacting with OpenAI's API."
   ]
  },
  {
   "cell_type": "markdown",
   "id": "1bfb8c57",
   "metadata": {},
   "source": [
    "#### 2. Loading API Key\n",
    "\n",
    "We load the OpenAI API key from a .env file for security."
   ]
  },
  {
   "cell_type": "code",
   "execution_count": null,
   "id": "6451ecb5",
   "metadata": {},
   "outputs": [],
   "source": [
    "# Load environment variables from .env file\n",
    "load_dotenv()\n",
    "\n",
    "# Set OpenAI API key\n",
    "api_key = os.getenv(\"OPENAI_API_KEY\")\n",
    "\n",
    "# OpenAI model\n",
    "MODEL = 'gpt-4o-mini'\n",
    "openai = OpenAI()"
   ]
  },
  {
   "cell_type": "markdown",
   "id": "6ddc243a",
   "metadata": {},
   "source": [
    "#### 3. Defining the `Website` Class\n",
    "\n",
    "The `Website` class is defined to represent a website and its content. It fetches the HTML content of a given URL, extracts the text, and finds all the links."
   ]
  },
  {
   "cell_type": "code",
   "execution_count": 7,
   "id": "16c1a72f",
   "metadata": {},
   "outputs": [],
   "source": [
    "# A class to represent the webpage scraper\n",
    "\n",
    "# Some websites need you to use proper headers when fetching their content:\n",
    "headers = {\n",
    " \"User-Agent\": \"Mozilla/5.0 (Windows NT 10.0; Win64; x64) AppleWebKit/537.36 (KHTML, like Gecko) Chrome/117.0.0.0 Safari/537.36\"\n",
    "}\n",
    "\n",
    "class Website:\n",
    "    \"\"\"\n",
    "    A utility class to represent a Website that we have scraped, now with links\n",
    "    \"\"\"\n",
    "\n",
    "    def __init__(self, url):\n",
    "        self.url = url\n",
    "        response = requests.get(url, headers=headers)\n",
    "        self.body = response.content\n",
    "        soup = BeautifulSoup(self.body, 'html.parser')\n",
    "        self.title = soup.title.string if soup.title else 'No title found'\n",
    "        if soup.body:\n",
    "            for irrelevant in soup.body(['script', 'style', 'img', 'input']):\n",
    "                irrelevant.decompose()\n",
    "            self.text = soup.body.get_text(separator='\\n', strip=True)\n",
    "        else:\n",
    "            self.text = ''\n",
    "        links = [link.get('href') for link in soup.find_all('a')]\n",
    "        self.links = [link for link in links if link]\n",
    "\n",
    "    \n",
    "    def get_contents(self):\n",
    "        return f\"Webpage Title: {self.title}\\nWebpage Content:\\n{self.text}\\n\\n\"\n"
   ]
  },
  {
   "cell_type": "markdown",
   "id": "22ff5c7c",
   "metadata": {},
   "source": [
    "The class constructor does the following:\n",
    "- Fetches the webpage content using requests.get().\n",
    "- Parses the HTML using BeautifulSoup.\n",
    "-  Extracts the title and text content, removing irrelevant elements like scripts and styles.\n",
    "-  Extracts all the hyperlinks from the page.\n",
    "- The get_contents() method returns the title and text of the webpage.\n"
   ]
  },
  {
   "cell_type": "markdown",
   "id": "85a49dc6",
   "metadata": {},
   "source": [
    "#### 4. Finding Relevant Links\n",
    "\n",
    "The core of the project is identifying which links from the website are most relevant to include in the brochure. We use the gpt-4o-mini model to analyze the links and determine their relevance."
   ]
  },
  {
   "cell_type": "code",
   "execution_count": 8,
   "id": "a0195c9a",
   "metadata": {},
   "outputs": [
    {
     "data": {
      "text/plain": [
       "['https://edwarddonner.com/',\n",
       " 'https://edwarddonner.com/connect-four/',\n",
       " 'https://edwarddonner.com/outsmart/',\n",
       " 'https://edwarddonner.com/about-me-and-about-nebula/',\n",
       " 'https://edwarddonner.com/posts/',\n",
       " 'https://edwarddonner.com/',\n",
       " 'https://news.ycombinator.com',\n",
       " 'https://nebula.io/?utm_source=ed&utm_medium=referral',\n",
       " 'https://www.prnewswire.com/news-releases/wynden-stark-group-acquires-nyc-venture-backed-tech-startup-untapt-301269512.html',\n",
       " 'https://patents.google.com/patent/US20210049536A1/',\n",
       " 'https://www.linkedin.com/in/eddonner/',\n",
       " 'https://edwarddonner.com/2025/04/21/the-complete-agentic-ai-engineering-course/',\n",
       " 'https://edwarddonner.com/2025/04/21/the-complete-agentic-ai-engineering-course/',\n",
       " 'https://edwarddonner.com/2025/01/23/llm-workshop-hands-on-with-agents-resources/',\n",
       " 'https://edwarddonner.com/2025/01/23/llm-workshop-hands-on-with-agents-resources/',\n",
       " 'https://edwarddonner.com/2024/12/21/llm-resources-superdatascience/',\n",
       " 'https://edwarddonner.com/2024/12/21/llm-resources-superdatascience/',\n",
       " 'https://edwarddonner.com/2024/11/13/llm-engineering-resources/',\n",
       " 'https://edwarddonner.com/2024/11/13/llm-engineering-resources/',\n",
       " 'https://edwarddonner.com/',\n",
       " 'https://edwarddonner.com/connect-four/',\n",
       " 'https://edwarddonner.com/outsmart/',\n",
       " 'https://edwarddonner.com/about-me-and-about-nebula/',\n",
       " 'https://edwarddonner.com/posts/',\n",
       " 'mailto:hello@mygroovydomain.com',\n",
       " 'https://www.linkedin.com/in/eddonner/',\n",
       " 'https://twitter.com/edwarddonner',\n",
       " 'https://www.facebook.com/edward.donner.52']"
      ]
     },
     "execution_count": 8,
     "metadata": {},
     "output_type": "execute_result"
    }
   ],
   "source": [
    "# Testing the Website class\n",
    "ed = Website(\"https://edwarddonner.com\")\n",
    "ed.links"
   ]
  },
  {
   "cell_type": "markdown",
   "id": "141c4c74",
   "metadata": {},
   "source": [
    "Use a call to gpt-4o-mini to read the links on a webpage, and respond in structured JSON.  \n",
    "It should decide which links are relevant, and replace relative links such as \"/about\" with \"https://company.com/about\".  \n",
    "We will use \"one shot prompting\" in which we provide an example of how it should respond in the prompt.\n",
    "\n",
    "This is an excellent use case for an LLM, because it requires nuanced understanding. Imagine trying to code this without LLMs by parsing and analyzing the webpage - it would be very hard!"
   ]
  },
  {
   "cell_type": "code",
   "execution_count": 11,
   "id": "caa5ae04",
   "metadata": {},
   "outputs": [],
   "source": [
    "link_system_prompt = \"You are provided with a list of links found on a webpage. \\\n",
    "You are able to decide which of the links would be most relevant to include in a brouchure about the company, \\\n",
    "such as links to an About page, or a Company page, or Careers/Jobs pages.\\n\"\n",
    "link_system_prompt += \"You should respond in JSON as in this example:\"\n",
    "link_system_prompt += \"\"\"\n",
    "{\n",
    "    links: [\n",
    "        {\"type\": \"about_page\", \"url\": \"https://full.url/goes/here/about\"},\n",
    "        {\"type\": \"careers_page\", \"url\": \"https://another.full.url/careers\"},\n",
    "}\n",
    "\n",
    "\"\"\""
   ]
  },
  {
   "cell_type": "code",
   "execution_count": 12,
   "id": "5192e09a",
   "metadata": {},
   "outputs": [
    {
     "name": "stdout",
     "output_type": "stream",
     "text": [
      "You are provided with a list of links found on a webpage. You are able to decide which of the links would be most relevant to include in a brouchure about the company, such as links to an About page, or a Company page, or Careers/Jobs pages.\n",
      "You should respond in JSON as in this example:\n",
      "{\n",
      "    links: [\n",
      "        {\"type\": \"about_page\", \"url\": \"https://full.url/goes/here/about\"},\n",
      "        {\"type\": \"careers_page\", \"url\": \"https://another.full.url/careers\"},\n",
      "}\n",
      "\n",
      "\n"
     ]
    }
   ],
   "source": [
    "print(link_system_prompt)"
   ]
  },
  {
   "cell_type": "code",
   "execution_count": 18,
   "id": "c24b3887",
   "metadata": {},
   "outputs": [],
   "source": [
    "def get_links_user_prompt(website: Website):\n",
    "    user_prompt = f\"Here is the list of links on the website of {website.url} - \"\n",
    "    user_prompt += \"please decide which of these are relevant web links for a brochure about the company, respond with the full https URL in JSON format. \\\n",
    "Do not include Terms and Service or Privacy, email links.\\n\"\n",
    "    user_prompt += \"Links (some might be relative links):\\n\"\n",
    "    user_prompt += \"\\n\".join(website.links)\n",
    "    return user_prompt"
   ]
  },
  {
   "cell_type": "markdown",
   "id": "d24c601b",
   "metadata": {},
   "source": [
    "The `get_links_user_prompt` function generates the user prompt, providing the LLM with the list of links from the website and asking it to identify the relevant ones."
   ]
  },
  {
   "cell_type": "code",
   "execution_count": 19,
   "id": "13a31c6d",
   "metadata": {},
   "outputs": [
    {
     "name": "stdout",
     "output_type": "stream",
     "text": [
      "Here is the list of links on the website of https://edwarddonner.com - please decide which of these are relevant web links for a brochure about the company, respond with the full https URL in JSON format. Do not include Terms and Service or Privacy, email links.\n",
      "Links (some might be relative links):\n",
      "https://edwarddonner.com/\n",
      "https://edwarddonner.com/connect-four/\n",
      "https://edwarddonner.com/outsmart/\n",
      "https://edwarddonner.com/about-me-and-about-nebula/\n",
      "https://edwarddonner.com/posts/\n",
      "https://edwarddonner.com/\n",
      "https://news.ycombinator.com\n",
      "https://nebula.io/?utm_source=ed&utm_medium=referral\n",
      "https://www.prnewswire.com/news-releases/wynden-stark-group-acquires-nyc-venture-backed-tech-startup-untapt-301269512.html\n",
      "https://patents.google.com/patent/US20210049536A1/\n",
      "https://www.linkedin.com/in/eddonner/\n",
      "https://edwarddonner.com/2025/04/21/the-complete-agentic-ai-engineering-course/\n",
      "https://edwarddonner.com/2025/04/21/the-complete-agentic-ai-engineering-course/\n",
      "https://edwarddonner.com/2025/01/23/llm-workshop-hands-on-with-agents-resources/\n",
      "https://edwarddonner.com/2025/01/23/llm-workshop-hands-on-with-agents-resources/\n",
      "https://edwarddonner.com/2024/12/21/llm-resources-superdatascience/\n",
      "https://edwarddonner.com/2024/12/21/llm-resources-superdatascience/\n",
      "https://edwarddonner.com/2024/11/13/llm-engineering-resources/\n",
      "https://edwarddonner.com/2024/11/13/llm-engineering-resources/\n",
      "https://edwarddonner.com/\n",
      "https://edwarddonner.com/connect-four/\n",
      "https://edwarddonner.com/outsmart/\n",
      "https://edwarddonner.com/about-me-and-about-nebula/\n",
      "https://edwarddonner.com/posts/\n",
      "mailto:hello@mygroovydomain.com\n",
      "https://www.linkedin.com/in/eddonner/\n",
      "https://twitter.com/edwarddonner\n",
      "https://www.facebook.com/edward.donner.52\n"
     ]
    }
   ],
   "source": [
    "print(get_links_user_prompt(ed))"
   ]
  },
  {
   "cell_type": "code",
   "execution_count": 25,
   "id": "f0ceb8d8",
   "metadata": {},
   "outputs": [],
   "source": [
    "def get_links(url):\n",
    "    website = Website(url)\n",
    "    response = openai.chat.completions.create(\n",
    "        model=MODEL,\n",
    "        messages=[\n",
    "            {\"role\": \"system\", \"content\": link_system_prompt},\n",
    "            {\"role\": \"user\", \"content\": get_links_user_prompt(website)}\n",
    "        ],\n",
    "        response_format={\"type\": \"json_object\", }\n",
    "    )\n",
    "\n",
    "    result = response.choices[0].message.content\n",
    "    return json.loads(result)"
   ]
  },
  {
   "cell_type": "markdown",
   "id": "370d1db8",
   "metadata": {},
   "source": [
    "The `get_links` function takes a URL, creates a `Website` object, and uses the OpenAI API to get the relevant links. It sends the system and user prompts to the API, and then parses the JSON response."
   ]
  },
  {
   "cell_type": "code",
   "execution_count": 21,
   "id": "a2d2626b",
   "metadata": {},
   "outputs": [
    {
     "data": {
      "text/plain": [
       "['/',\n",
       " '/models',\n",
       " '/datasets',\n",
       " '/spaces',\n",
       " '/posts',\n",
       " '/docs',\n",
       " '/enterprise',\n",
       " '/pricing',\n",
       " '/login',\n",
       " '/join',\n",
       " '/spaces',\n",
       " '/models',\n",
       " '/Qwen/Qwen3-235B-A22B',\n",
       " '/deepseek-ai/DeepSeek-Prover-V2-671B',\n",
       " '/nari-labs/Dia-1.6B',\n",
       " '/Qwen/Qwen3-30B-A3B',\n",
       " '/Qwen/Qwen3-32B',\n",
       " '/models',\n",
       " '/spaces/enzostvs/deepsite',\n",
       " '/spaces/Qwen/Qwen3-Demo',\n",
       " '/spaces/nari-labs/Dia-1.6B',\n",
       " '/spaces/stepfun-ai/Step1X-Edit',\n",
       " '/spaces/nvidia/describe-anything-model-demo',\n",
       " '/spaces',\n",
       " '/datasets/nvidia/OpenMathReasoning',\n",
       " '/datasets/nvidia/Nemotron-CrossThink',\n",
       " '/datasets/nvidia/OpenCodeReasoning',\n",
       " '/datasets/OpenGVLab/InternVL-Data',\n",
       " '/datasets/Eureka-Lab/PHYBench',\n",
       " '/datasets',\n",
       " '/join',\n",
       " '/pricing#endpoints',\n",
       " '/pricing#spaces',\n",
       " '/pricing',\n",
       " '/enterprise',\n",
       " '/enterprise',\n",
       " '/enterprise',\n",
       " '/enterprise',\n",
       " '/enterprise',\n",
       " '/enterprise',\n",
       " '/enterprise',\n",
       " '/allenai',\n",
       " '/facebook',\n",
       " '/amazon',\n",
       " '/google',\n",
       " '/Intel',\n",
       " '/microsoft',\n",
       " '/grammarly',\n",
       " '/Writer',\n",
       " '/docs/transformers',\n",
       " '/docs/diffusers',\n",
       " '/docs/safetensors',\n",
       " '/docs/huggingface_hub',\n",
       " '/docs/tokenizers',\n",
       " '/docs/trl',\n",
       " '/docs/transformers.js',\n",
       " '/docs/smolagents',\n",
       " '/docs/peft',\n",
       " '/docs/datasets',\n",
       " '/docs/text-generation-inference',\n",
       " '/docs/accelerate',\n",
       " '/models',\n",
       " '/datasets',\n",
       " '/spaces',\n",
       " '/tasks',\n",
       " 'https://ui.endpoints.huggingface.co',\n",
       " '/chat',\n",
       " '/huggingface',\n",
       " '/brand',\n",
       " '/terms-of-service',\n",
       " '/privacy',\n",
       " 'https://apply.workable.com/huggingface/',\n",
       " 'mailto:press@huggingface.co',\n",
       " '/learn',\n",
       " '/docs',\n",
       " '/blog',\n",
       " 'https://discuss.huggingface.co',\n",
       " 'https://status.huggingface.co/',\n",
       " 'https://github.com/huggingface',\n",
       " 'https://twitter.com/huggingface',\n",
       " 'https://www.linkedin.com/company/huggingface/',\n",
       " '/join/discord']"
      ]
     },
     "execution_count": 21,
     "metadata": {},
     "output_type": "execute_result"
    }
   ],
   "source": [
    "# Testing \n",
    "huggingface = Website(\"https://huggingface.co\")\n",
    "huggingface.links"
   ]
  },
  {
   "cell_type": "code",
   "execution_count": 26,
   "id": "c3d7a77f",
   "metadata": {},
   "outputs": [
    {
     "data": {
      "text/plain": [
       "{'links': [{'type': 'about_page', 'url': 'https://huggingface.co/'},\n",
       "  {'type': 'enterprise_page', 'url': 'https://huggingface.co/enterprise'},\n",
       "  {'type': 'pricing_page', 'url': 'https://huggingface.co/pricing'},\n",
       "  {'type': 'careers_page', 'url': 'https://apply.workable.com/huggingface/'},\n",
       "  {'type': 'blog_page', 'url': 'https://huggingface.co/blog'},\n",
       "  {'type': 'community_page', 'url': 'https://discuss.huggingface.co'},\n",
       "  {'type': 'github_page', 'url': 'https://github.com/huggingface'},\n",
       "  {'type': 'linkedin_page',\n",
       "   'url': 'https://www.linkedin.com/company/huggingface/'},\n",
       "  {'type': 'twitter_page', 'url': 'https://twitter.com/huggingface'}]}"
      ]
     },
     "execution_count": 26,
     "metadata": {},
     "output_type": "execute_result"
    }
   ],
   "source": [
    "get_links(huggingface.url)"
   ]
  },
  {
   "cell_type": "markdown",
   "id": "f9f5a818",
   "metadata": {},
   "source": [
    "## Second step: make the brochure!\n",
    "\n",
    "Assemble all the details into another prompt to GPT4-o"
   ]
  },
  {
   "cell_type": "code",
   "execution_count": 27,
   "id": "16bd637c",
   "metadata": {},
   "outputs": [],
   "source": [
    "def get_all_details(url):\n",
    "    result = \"Landing page:\\n\"\n",
    "    result += Website(url).get_contents()\n",
    "    links = get_links(url)\n",
    "\n",
    "    print(f\"Found links: {links}\")\n",
    "    for link in links['links']:\n",
    "        result += f\"\\n\\n{link['type']}\\n\"\n",
    "        result += Website(link['url']).get_contents()\n",
    "    return result"
   ]
  },
  {
   "cell_type": "code",
   "execution_count": null,
   "id": "13909d67",
   "metadata": {},
   "outputs": [],
   "source": [
    "print(get_all_details(\"https://huggingface.co\"))"
   ]
  },
  {
   "cell_type": "code",
   "execution_count": 29,
   "id": "bd15862a",
   "metadata": {},
   "outputs": [],
   "source": [
    "system_prompt = \"You are an assistant that analyzes the contents of several relevant pages from a company website \\\n",
    "and creates a short brochure about the company for prospective customers, investors and recruits. Respond in markdown.\\\n",
    "Include details of company culture, customers and careers/jobs if you have the information.\"\n",
    "\n",
    "# Or uncomment the lines below for a more humorous brochure - this demonstrates how easy it is to incorporate 'tone':\n",
    "\n",
    "# system_prompt = \"You are an assistant that analyzes the contents of several relevant pages from a company website \\\n",
    "# and creates a short humorous, entertaining, jokey brochure about the company for prospective customers, investors and recruits. Respond in markdown.\\\n",
    "# Include details of company culture, customers and careers/jobs if you have the information.\"\n"
   ]
  },
  {
   "cell_type": "code",
   "execution_count": 30,
   "id": "b2965574",
   "metadata": {},
   "outputs": [],
   "source": [
    "def get_brochure_user_prompt(company_name: str, url: str):\n",
    "    user_prompt = f\"You are looking at a company called {company_name}.\\n\"\n",
    "    user_prompt += f\"Here are the contents of its landing page and other relevant pages; use this information to build a short brochure of the company in markdown.\\n\"\n",
    "    user_prompt += get_all_details(url)\n",
    "    user_prompt += user_prompt[:7_000]  # Truncate if more than 7,000 characters\n",
    "    return user_prompt"
   ]
  },
  {
   "cell_type": "code",
   "execution_count": 31,
   "id": "b1a07d29",
   "metadata": {},
   "outputs": [
    {
     "name": "stdout",
     "output_type": "stream",
     "text": [
      "Found links: {'links': [{'type': 'about_page', 'url': 'https://huggingface.co'}, {'type': 'careers_page', 'url': 'https://apply.workable.com/huggingface/'}, {'type': 'enterprise_page', 'url': 'https://huggingface.co/enterprise'}, {'type': 'blog_page', 'url': 'https://huggingface.co/blog'}, {'type': 'models_page', 'url': 'https://huggingface.co/models'}, {'type': 'datasets_page', 'url': 'https://huggingface.co/datasets'}, {'type': 'spaces_page', 'url': 'https://huggingface.co/spaces'}, {'type': 'docs_page', 'url': 'https://huggingface.co/docs'}, {'type': 'community_page', 'url': 'https://discuss.huggingface.co'}, {'type': 'github_page', 'url': 'https://github.com/huggingface'}, {'type': 'twitter_page', 'url': 'https://twitter.com/huggingface'}, {'type': 'linkedin_page', 'url': 'https://www.linkedin.com/company/huggingface/'}]}\n"
     ]
    },
    {
     "data": {
      "text/plain": [
       "'You are looking at a company called HuggingFace.\\nHere are the contents of its landing page and other relevant pages; use this information to build a short brochure of the company in markdown.\\nLanding page:\\nWebpage Title: Hugging Face – The AI community building the future.\\nWebpage Content:\\nHugging Face\\nModels\\nDatasets\\nSpaces\\nPosts\\nDocs\\nEnterprise\\nPricing\\nLog In\\nSign Up\\nThe AI community building the future.\\nThe platform where the machine learning community collaborates on models, datasets, and applications.\\nExplore AI Apps\\nor\\nBrowse 1M+ models\\nTrending on\\nthis week\\nModels\\nQwen/Qwen3-235B-A22B\\nUpdated\\n3 days ago\\n•\\n28.6k\\n•\\n644\\ndeepseek-ai/DeepSeek-Prover-V2-671B\\nUpdated\\n4 days ago\\n•\\n1.71k\\n•\\n627\\nnari-labs/Dia-1.6B\\nUpdated\\n7 days ago\\n•\\n108k\\n•\\n1.77k\\nQwen/Qwen3-30B-A3B\\nUpdated\\n4 days ago\\n•\\n39.8k\\n•\\n428\\nQwen/Qwen3-32B\\nUpdated\\n5 days ago\\n•\\n73k\\n•\\n263\\nBrowse 1M+ models\\nSpaces\\nRunning\\n5.86k\\n5.86k\\nDeepSite\\n🐳\\nGenerate any application with DeepSeek\\nRunning\\n362\\n362\\nQwen3 Demo\\n📊\\nGenerate responses to user queries using conversation history\\nRunning\\non\\nZero\\n1.09k\\n1.09k\\nDia 1.6B\\n👯\\nGenerate realistic dialogue from a script, using Dia!\\nRunning\\non\\nZero\\n285\\n285\\nStep1X Edit\\n💻\\nEdit an image based on the given instruction.\\nRunning\\non\\nZero\\n245\\n245\\nDescribe Anything\\n⚡\\nDescribe image parts using masks\\nBrowse 400k+ applications\\nDatasets\\nnvidia/OpenMathReasoning\\nUpdated\\n10 days ago\\n•\\n19.5k\\n•\\n163\\nnvidia/Nemotron-CrossThink\\nUpdated\\n3 days ago\\n•\\n299\\n•\\n33\\nnvidia/OpenCodeReasoning\\nUpdated\\n19 days ago\\n•\\n15.6k\\n•\\n335\\nOpenGVLab/InternVL-Data\\nUpdated\\nabout 2 hours ago\\n•\\n6.98k\\n•\\n106\\nEureka-Lab/PHYBench\\nUpdated\\n8 days ago\\n•\\n1.04k\\n•\\n47\\nBrowse 250k+ datasets\\nThe Home of Machine Learning\\nCreate, discover and collaborate on ML better.\\nThe collaboration platform\\nHost and collaborate on unlimited public models, datasets and applications.\\nMove faster\\nWith the HF Open source stack.\\nExplore all modalities\\nText, image, video, audio or even 3D.\\nBuild your portfolio\\nShare your work with the world and build your ML profile.\\nSign Up\\nAccelerate your ML\\nWe provide paid Compute and Enterprise solutions.\\nCompute\\nDeploy on optimized\\nInference Endpoints\\nor update your\\nSpaces applications\\nto a GPU in a few clicks.\\nView pricing\\nStarting at $0.60/hour for GPU\\nEnterprise\\nGive your team the most advanced platform to build AI with enterprise-grade security, access controls and\\n\\t\\t\\tdedicated support.\\nGetting started\\nStarting at $20/user/month\\nSingle Sign-On\\nRegions\\nPriority Support\\nAudit Logs\\nResource Groups\\nPrivate Datasets Viewer\\nMore than 50,000 organizations are using Hugging Face\\nAi2\\nEnterprise\\nnon-profit\\n•\\n756 models\\n•\\n3.19k followers\\nAI at Meta\\nEnterprise\\ncompany\\n•\\n2.12k models\\n•\\n5.78k followers\\nAmazon\\ncompany\\n•\\n20 models\\n•\\n3.11k followers\\nGoogle\\ncompany\\n•\\n991 models\\n•\\n12.7k followers\\nIntel\\ncompany\\n•\\n220 models\\n•\\n2.5k followers\\nMicrosoft\\ncompany\\n•\\n375 models\\n•\\n12k followers\\nGrammarly\\nEnterprise\\ncompany\\n•\\n10 models\\n•\\n156 followers\\nWriter\\nEnterprise\\ncompany\\n•\\n21 models\\n•\\n266 followers\\nOur Open Source\\nWe are building the foundation of ML tooling with the community.\\nTransformers\\n143,809\\nState-of-the-art ML for PyTorch, TensorFlow, JAX\\nDiffusers\\n28,840\\nState-of-the-art Diffusion models in PyTorch\\nSafetensors\\n3,251\\nSafe way to store/distribute neural network weights\\nHub Python Library\\n2,573\\nPython client to interact with the Hugging Face Hub\\nTokenizers\\n9,651\\nFast tokenizers optimized for research & production\\nTRL\\n13,572\\nTrain transformers LMs with reinforcement learning\\nTransformers.js\\n13,540\\nState-of-the-art ML running directly in your browser\\nsmolagents\\n17,944\\nSmol library to build great agents in Python\\nPEFT\\n18,288\\nParameter-efficient finetuning for large language models\\nDatasets\\n20,062\\nAccess & share datasets for any ML tasks\\nText Generation Inference\\n10,078\\nServe language models with TGI optimized toolkit\\nAccelerate\\n8,674\\nTrain PyTorch models with multi-GPU, TPU, mixed precision\\nSystem theme\\nWebsite\\nModels\\nDatasets\\nSpaces\\nTasks\\nInference Endpoints\\nHuggingChat\\nCompany\\nAbout\\nBrand assets\\nTerms of service\\nPrivacy\\nJobs\\nPress\\nResources\\nLearn\\nDocumentation\\nBlog\\nForum\\nService Status\\nSocial\\nGitHub\\nTwitter\\nLinkedIn\\nDiscord\\n\\n\\n\\nabout_page\\nWebpage Title: Hugging Face – The AI community building the future.\\nWebpage Content:\\nHugging Face\\nModels\\nDatasets\\nSpaces\\nPosts\\nDocs\\nEnterprise\\nPricing\\nLog In\\nSign Up\\nThe AI community building the future.\\nThe platform where the machine learning community collaborates on models, datasets, and applications.\\nExplore AI Apps\\nor\\nBrowse 1M+ models\\nTrending on\\nthis week\\nModels\\nQwen/Qwen3-235B-A22B\\nUpdated\\n3 days ago\\n•\\n28.6k\\n•\\n644\\ndeepseek-ai/DeepSeek-Prover-V2-671B\\nUpdated\\n4 days ago\\n•\\n1.71k\\n•\\n627\\nnari-labs/Dia-1.6B\\nUpdated\\n7 days ago\\n•\\n108k\\n•\\n1.77k\\nQwen/Qwen3-30B-A3B\\nUpdated\\n4 days ago\\n•\\n39.8k\\n•\\n428\\nQwen/Qwen3-32B\\nUpdated\\n5 days ago\\n•\\n73k\\n•\\n263\\nBrowse 1M+ models\\nSpaces\\nRunning\\n5.86k\\n5.86k\\nDeepSite\\n🐳\\nGenerate any application with DeepSeek\\nRunning\\n362\\n362\\nQwen3 Demo\\n📊\\nGenerate responses to user queries using conversation history\\nRunning\\non\\nZero\\n1.09k\\n1.09k\\nDia 1.6B\\n👯\\nGenerate realistic dialogue from a script, using Dia!\\nRunning\\non\\nZero\\n285\\n285\\nStep1X Edit\\n💻\\nEdit an image based on the given instruction.\\nRunning\\non\\nZero\\n245\\n245\\nDescribe Anything\\n⚡\\nDescribe image parts using masks\\nBrowse 400k+ applications\\nDatasets\\nnvidia/OpenMathReasoning\\nUpdated\\n10 days ago\\n•\\n19.5k\\n•\\n163\\nnvidia/Nemotron-CrossThink\\nUpdated\\n3 days ago\\n•\\n299\\n•\\n33\\nnvidia/OpenCodeReasoning\\nUpdated\\n19 days ago\\n•\\n15.6k\\n•\\n335\\nOpenGVLab/InternVL-Data\\nUpdated\\nabout 2 hours ago\\n•\\n6.98k\\n•\\n106\\nEureka-Lab/PHYBench\\nUpdated\\n8 days ago\\n•\\n1.04k\\n•\\n47\\nBrowse 250k+ datasets\\nThe Home of Machine Learning\\nCreate, discover and collaborate on ML better.\\nThe collaboration platform\\nHost and collaborate on unlimited public models, datasets and applications.\\nMove faster\\nWith the HF Open source stack.\\nExplore all modalities\\nText, image, video, audio or even 3D.\\nBuild your portfolio\\nShare your work with the world and build your ML profile.\\nSign Up\\nAccelerate your ML\\nWe provide paid Compute and Enterprise solutions.\\nCompute\\nDeploy on optimized\\nInference Endpoints\\nor update your\\nSpaces applications\\nto a GPU in a few clicks.\\nView pricing\\nStarting at $0.60/hour for GPU\\nEnterprise\\nGive your team the most advanced platform to build AI with enterprise-grade security, access controls and\\n\\t\\t\\tdedicated support.\\nGetting started\\nStarting at $20/user/month\\nSingle Sign-On\\nRegions\\nPriority Support\\nAudit Logs\\nResource Groups\\nPrivate Datasets Viewer\\nMore than 50,000 organizations are using Hugging Face\\nAi2\\nEnterprise\\nnon-profit\\n•\\n756 models\\n•\\n3.19k followers\\nAI at Meta\\nEnterprise\\ncompany\\n•\\n2.12k models\\n•\\n5.78k followers\\nAmazon\\ncompany\\n•\\n20 models\\n•\\n3.11k followers\\nGoogle\\ncompany\\n•\\n991 models\\n•\\n12.7k followers\\nIntel\\ncompany\\n•\\n220 models\\n•\\n2.5k followers\\nMicrosoft\\ncompany\\n•\\n375 models\\n•\\n12k followers\\nGrammarly\\nEnterprise\\ncompany\\n•\\n10 models\\n•\\n156 followers\\nWriter\\nEnterprise\\ncompany\\n•\\n21 models\\n•\\n266 followers\\nOur Open Source\\nWe are building the foundation of ML tooling with the community.\\nTransformers\\n143,809\\nState-of-the-art ML for PyTorch, TensorFlow, JAX\\nDiffusers\\n28,840\\nState-of-the-art Diffusion models in PyTorch\\nSafetensors\\n3,251\\nSafe way to store/distribute neural network weights\\nHub Python Library\\n2,573\\nPython client to interact with the Hugging Face Hub\\nTokenizers\\n9,651\\nFast tokenizers optimized for research & production\\nTRL\\n13,572\\nTrain transformers LMs with reinforcement learning\\nTransformers.js\\n13,540\\nState-of-the-art ML running directly in your browser\\nsmolagents\\n17,944\\nSmol library to build great agents in Python\\nPEFT\\n18,288\\nParameter-efficient finetuning for large language models\\nDatasets\\n20,062\\nAccess & share datasets for any ML tasks\\nText Generation Inference\\n10,078\\nServe language models with TGI optimized toolkit\\nAccelerate\\n8,674\\nTrain PyTorch models with multi-GPU, TPU, mixed precision\\nSystem theme\\nWebsite\\nModels\\nDatasets\\nSpaces\\nTasks\\nInference Endpoints\\nHuggingChat\\nCompany\\nAbout\\nBrand assets\\nTerms of service\\nPrivacy\\nJobs\\nPress\\nResources\\nLearn\\nDocumentation\\nBlog\\nForum\\nService Status\\nSocial\\nGitHub\\nTwitter\\nLinkedIn\\nDiscord\\n\\n\\n\\ncareers_page\\nWebpage Title: Hugging Face - Current Openings\\nWebpage Content:\\n\\n\\n\\n\\nenterprise_page\\nWebpage Title: Enterprise Hub - Hugging Face\\nWebpage Content:\\nHugging Face\\nModels\\nDatasets\\nSpaces\\nPosts\\nDocs\\nEnterprise\\nPricing\\nLog In\\nSign Up\\nEnterprise Hub\\nEnterprise-ready version of the world’s leading AI platform\\nSubscribe to\\nEnterprise Hub\\nfor $20/user/month with your Hub organization\\nGive your organization the most advanced platform to build AI with enterprise-grade security, access controls,\\n\\t\\t\\tdedicated support and more.\\nSingle Sign-On\\nConnect securely to your identity provider with SSO integration.\\nRegions\\nSelect, manage, and audit the location of your repository data.\\nAudit Logs\\nStay in control with comprehensive logs that report on actions taken.\\nResource Groups\\nAccurately manage access to repositories with granular access control.\\nToken Management\\nCentralized token control and custom approval policies for organization access.\\nAnalytics\\nTrack and analyze repository usage data in a single dashboard.\\nAdvanced Compute Options\\nIncrease scalability and performance with more compute options like ZeroGPU.\\nZeroGPU Quota Boost\\nAll organization members get 5x more ZeroGPU quota to get the most of Spaces.\\nPrivate Datasets Viewer\\nEnable the Dataset Viewer on your private datasets for easier collaboration.\\nAdvanced security\\nConfigure organization-wide security policies and default repository visibility.\\nBilling\\nControl your budget effectively with managed billing and yearly commit options.\\nPriority Support\\nMaximize your platform usage with priority support from the Hugging Face team.\\nExtra Private Storage\\nGet an additional 1 TB of private storage for each member of your organization (then $25/month per extra TB).\\nJoin the most forward-thinking AI organizations\\nEverything you already know and love about Hugging Face in Enterprise mode.\\nSubscribe to\\nEnterprise Hub\\nor\\nTalk to sales\\nNVIDIA\\nEnterprise\\ncompany\\n•\\n353 models\\n•\\n24.2k followers\\nShopify\\nEnterprise\\ncompany\\n•\\n445 followers\\nSnowflake\\nEnterprise\\ncompany\\n•\\n21 models\\n•\\n501 followers\\nTogether\\nEnterprise\\ncompany\\n•\\n29 models\\n•\\n586 followers\\nQwen\\nEnterprise\\ncompany\\n•\\n262 models\\n•\\n29.1k followers\\nXsolla\\nEnterprise\\ncompany\\n•\\n133 followers\\nToyota Research Institute\\nEnterprise\\ncompany\\n•\\n10 models\\n•\\n110 followers\\nJusbrasil\\nEnterprise\\ncompany\\n•\\n92 followers\\nTNG Technology Consulting GmbH\\nEnterprise\\ncompany\\n•\\n3 models\\n•\\n137 followers\\nAledade Inc\\nEnterprise\\ncompany\\n•\\n70 followers\\nChegg Inc\\nEnterprise\\ncompany\\n•\\n84 followers\\nJohnson & Johnson\\nEnterprise\\ncompany\\n•\\n59 followers\\nWidn AI\\nEnterprise\\ncompany\\n•\\n48 followers\\nBCG X\\nEnterprise\\ncompany\\n•\\n39 followers\\nInfosys Limited\\nEnterprise\\ncompany\\n•\\n2 models\\n•\\n819 followers\\nNerdy Face\\nEnterprise\\ncompany\\n•\\n1 model\\n•\\n297 followers\\nAMD\\nEnterprise\\ncompany\\n•\\n130 models\\n•\\n1.51k followers\\nArm\\nEnterprise\\ncompany\\n•\\n191 followers\\nLiveRAG by AIIR\\nEnterprise\\ncompany\\n•\\n127 followers\\nServiceNow-AI\\nEnterprise\\ncompany\\n•\\n2 models\\n•\\n228 followers\\nFidelity Investments\\nEnterprise\\ncompany\\n•\\n139 followers\\nNutanix\\nEnterprise\\ncompany\\n•\\n261 models\\n•\\n88 followers\\nIBM Granite\\nEnterprise\\ncompany\\n•\\n117 models\\n•\\n1.64k followers\\ncreditkarma\\nEnterprise\\ncompany\\n•\\n63 followers\\nHiddenLayer\\nEnterprise\\ncompany\\n•\\n1 model\\n•\\n69 followers\\nGrammarly\\nEnterprise\\ncompany\\n•\\n10 models\\n•\\n156 followers\\nMiniMax\\nEnterprise\\ncompany\\n•\\n2 models\\n•\\n628 followers\\nStability AI\\nEnterprise\\ncompany\\n•\\n105 models\\n•\\n22.3k followers\\nMeta Llama\\nEnterprise\\ncompany\\n•\\n70 models\\n•\\n41.4k followers\\nAI at Meta\\nEnterprise\\ncompany\\n•\\n2.12k models\\n•\\n5.78k followers\\nOrange\\nEnterprise\\ncompany\\n•\\n7 models\\n•\\n218 followers\\nServiceNow\\nEnterprise\\ncompany\\n•\\n502 followers\\nWriter\\nEnterprise\\ncompany\\n•\\n21 models\\n•\\n266 followers\\nDeutsche Telekom AG\\nEnterprise\\ncompany\\n•\\n7 models\\n•\\n143 followers\\nMercedes-Benz AG\\nEnterprise\\ncompany\\n•\\n153 followers\\nMistral AI_\\nEnterprise\\ncompany\\n•\\n26 models\\n•\\n8.04k followers\\nH2O.ai\\nEnterprise\\ncompany\\n•\\n71 models\\n•\\n421 followers\\nTechnology Innovation Institute\\nEnterprise\\ncompany\\n•\\n65 models\\n•\\n1.32k followers\\nHyperCLOVA X\\nEnterprise\\ncompany\\n•\\n3 models\\n•\\n257 followers\\nNovo Nordisk\\nEnterprise\\ncompany\\n•\\n78 followers\\nLiquid AI\\nEnterprise\\ncompany\\n•\\n130 followers\\nKakao Corp.\\nEnterprise\\ncompany\\n•\\n3 models\\n•\\n129 followers\\nCompliance & Certifications\\nGDPR Compliant\\nSOC 2 Type 2\\nSystem theme\\nWebsite\\nModels\\nDatasets\\nSpaces\\nTasks\\nInference Endpoints\\nHuggingChat\\nCompany\\nAbout\\nBrand assets\\nTerms of service\\nPrivacy\\nJobs\\nPress\\nResources\\nLearn\\nDocumentation\\nBlog\\nForum\\nService Status\\nSocial\\nGitHub\\nTwitter\\nLinkedIn\\nDiscord\\n\\n\\n\\nblog_page\\nWebpage Title: Hugging Face – Blog\\nWebpage Content:\\nHugging Face\\nModels\\nDatasets\\nSpaces\\nPosts\\nDocs\\nEnterprise\\nPricing\\nLog In\\nSign Up\\nBlog, Articles, and discussions\\nNew Article\\nEverything\\ncommunity\\nguide\\nopen source collab\\npartnerships\\nresearch\\nNLP\\nAudio\\nCV\\nRL\\nethics\\nDiffusion\\nGame Development\\nRLHF\\nLeaderboard\\nCase Studies\\nLeRobot\\nHow to Build an MCP Server with Gradio\\nBy\\nabidlabs\\nApril 30, 2025\\n•\\n66\\nCommunity Articles\\nview all\\nI trained a Language Model to schedule events with GRPO!\\nBy\\nanakin87\\n•\\n5 days ago\\n•\\n30\\nBamba-9B-v2 - Fast and powerful!\\nBy\\nibm-ai-platform\\nand 12 others\\n•\\n5 days ago\\n•\\n26\\nIntroducing HalluMix: A Task-Agnostic, Multi-Domain Benchmark for Detecting Hallucinations in Real-World Scenarios\\nBy\\nquotientai\\nand 3 others\\n•\\n2 days ago\\n•\\n18\\n🦸🏻#14: What Is MCP, and Why Is Everyone – Suddenly!– Talking About It?\\nBy\\nKseniase\\n•\\nMar 17\\n•\\n226\\nUncensor any LLM with abliteration\\nBy\\nmlabonne\\n•\\nJun 13, 2024\\n•\\n542\\nCreating your custom Ghibli Text-to-Image model\\nBy\\natlasia\\nand 3 others\\n•\\n3 days ago\\n•\\n12\\nDeepWiki: Best AI Documentation Generator for Any Github Repo\\nBy\\nlynn-mikami\\n•\\n6 days ago\\n•\\n11\\nIntroduction to State Space Models (SSM)\\nBy\\nlbourdois\\n•\\nJul 19, 2024\\n•\\n126\\nMixture of Tunable Experts - Behavior Modification of DeepSeek-R1 at Inference Time\\nBy\\nrbrt\\nand 4 others\\n•\\nFeb 18\\n•\\n31\\nPipelineRL\\nBy\\nServiceNow\\nand 3 others\\n•\\n9 days ago\\n•\\n17\\nCode a simple RAG from scratch\\nBy\\nngxson\\n•\\nOct 29, 2024\\n•\\n63\\nOpenManus: The Open Source Alternative to Manus AI\\nBy\\nlynn-mikami\\n•\\nMar 30\\n•\\n13\\nHow to Use FastAPI MCP Server: A Complete Guide\\nBy\\nlynn-mikami\\n•\\n23 days ago\\n•\\n26\\nBuilding Multimodal RAG Systems: Supercharging Retrieval with MultiModal Embeddings and LLMs\\nBy\\nOmartificial-Intelligence-Space\\n•\\n3 days ago\\n•\\n5\\nWhat is test-time compute and how to scale it?\\nBy\\nKseniase\\nand 1 other\\n•\\nFeb 6\\n•\\n82\\nNavigating the RLHF Landscape: From Policy Gradients to PPO, GAE, and DPO for LLM Alignment\\nBy\\nNormalUhr\\n•\\nFeb 11\\n•\\n26\\nChatGPT-4o\\'s Image Generation Capabilities and Its Wild Examples\\nBy\\nprithivMLmods\\n•\\n29 days ago\\n•\\n19\\nWhat is The Agent2Agent Protocol (A2A) and Why You Must Learn It Now\\nBy\\nlynn-mikami\\n•\\n22 days ago\\n•\\n14\\nWhat is MoE 2.0? Update Your Knowledge about Mixture-of-experts\\nBy\\nKseniase\\nand 1 other\\n•\\n7 days ago\\n•\\n4\\nA Guide to Running Qwen 3 Locally with Ollama and vLLM\\nBy\\nlynn-mikami\\n•\\n5 days ago\\n•\\n4\\nWelcoming Llama Guard 4 on Hugging Face Hub\\nBy\\nmerve\\nApril 29, 2025\\n•\\n26\\nThe 4 Things Qwen-3\\'s Chat Template Teaches Us\\nBy\\ncfahlgren1\\nApril 30, 2025\\n•\\n18\\nTiny Agents: a MCP-powered agent in 50 lines of code\\nBy\\njulien-c\\nApril 25, 2025\\n•\\n207\\nIntroducing AutoRound: Intel’s Advanced Quantization for LLMs and VLMs\\nBy\\nwenhuach\\nApril 29, 2025\\n•\\n15\\n17 Reasons Why Gradio Isn\\'t Just Another UI Library\\nBy\\nysharma\\nApril 16, 2025\\n•\\n28\\nCohere on Hugging Face Inference Providers 🔥\\nBy\\nburtenshaw\\nApril 16, 2025\\n•\\n124\\nIntroducing HELMET\\nBy\\nhyen\\nApril 16, 2025\\n•\\n23\\nHugging Face to sell open-source robots thanks to Pollen Robotics acquisition 🤖\\nBy\\nthomwolf\\nApril 14, 2025\\n•\\n42\\n4M Models Scanned: Protect AI + Hugging Face 6 Months In\\nBy\\nsean-pai\\nApril 14, 2025\\n•\\n27\\nHugging Face and Cloudflare Partner to Make Real-Time Speech and Video Seamless with FastRTC\\nBy\\nfreddyaboulton\\nApril 9, 2025\\n•\\n23\\nArabic Leaderboards: Introducing Arabic Instruction Following, Updating AraGen, and More\\nBy\\nalielfilali01\\nApril 8, 2025\\nguest\\n•\\n16\\nWelcome Llama 4 Maverick & Scout on Hugging Face!\\nBy\\nburtenshaw\\nApril 5, 2025\\n•\\n142\\nJourney to 1 Million Gradio Users!\\nBy\\nabidlabs\\nApril 4, 2025\\n•\\n25\\nThe NLP Course is becoming the LLM Course!\\nBy\\nburtenshaw\\nApril 3, 2025\\n•\\n87\\nPrevious\\n1\\n2\\n3\\n...\\n41\\nNext\\nCommunity Articles\\nSort:\\xa0\\n\\t\\tTrending\\nI trained a Language Model to schedule events with GRPO!\\nBy\\nanakin87\\n•\\n5 days ago\\n•\\n30\\nBamba-9B-v2 - Fast and powerful!\\nBy\\nibm-ai-platform\\nand 12 others\\n•\\n5 days ago\\n•\\n26\\nIntroducing HalluMix: A Task-Agnostic, Multi-Domain Benchmark for Detecting Hallucinations in Real-World Scenarios\\nBy\\nquotientai\\nand 3 others\\n•\\n2 days ago\\n•\\n18\\n🦸🏻#14: What Is MCP, and Why Is Everyone – Suddenly!– Talking About It?\\nBy\\nKseniase\\n•\\nMar 17\\n•\\n226\\nUncensor any LLM with abliteration\\nBy\\nmlabonne\\n•\\nJun 13, 2024\\n•\\n542\\nCreating your custom Ghibli Text-to-Image model\\nBy\\natlasia\\nand 3 others\\n•\\n3 days ago\\n•\\n12\\nDeepWiki: Best AI Documentation Generator for Any Github Repo\\nBy\\nlynn-mikami\\n•\\n6 days ago\\n•\\n11\\nIntroduction to State Space Models (SSM)\\nBy\\nlbourdois\\n•\\nJul 19, 2024\\n•\\n126\\nMixture of Tunable Experts - Behavior Modification of DeepSeek-R1 at Inference Time\\nBy\\nrbrt\\nand 4 others\\n•\\nFeb 18\\n•\\n31\\nPipelineRL\\nBy\\nServiceNow\\nand 3 others\\n•\\n9 days ago\\n•\\n17\\nCode a simple RAG from scratch\\nBy\\nngxson\\n•\\nOct 29, 2024\\n•\\n63\\nOpenManus: The Open Source Alternative to Manus AI\\nBy\\nlynn-mikami\\n•\\nMar 30\\n•\\n13\\nHow to Use FastAPI MCP Server: A Complete Guide\\nBy\\nlynn-mikami\\n•\\n23 days ago\\n•\\n26\\nBuilding Multimodal RAG Systems: Supercharging Retrieval with MultiModal Embeddings and LLMs\\nBy\\nOmartificial-Intelligence-Space\\n•\\n3 days ago\\n•\\n5\\nWhat is test-time compute and how to scale it?\\nBy\\nKseniase\\nand 1 other\\n•\\nFeb 6\\n•\\n82\\nNavigating the RLHF Landscape: From Policy Gradients to PPO, GAE, and DPO for LLM Alignment\\nBy\\nNormalUhr\\n•\\nFeb 11\\n•\\n26\\nChatGPT-4o\\'s Image Generation Capabilities and Its Wild Examples\\nBy\\nprithivMLmods\\n•\\n29 days ago\\n•\\n19\\nWhat is The Agent2Agent Protocol (A2A) and Why You Must Learn It Now\\nBy\\nlynn-mikami\\n•\\n22 days ago\\n•\\n14\\nWhat is MoE 2.0? Update Your Knowledge about Mixture-of-experts\\nBy\\nKseniase\\nand 1 other\\n•\\n7 days ago\\n•\\n4\\nA Guide to Running Qwen 3 Locally with Ollama and vLLM\\nBy\\nlynn-mikami\\n•\\n5 days ago\\n•\\n4\\nView all\\nSystem theme\\nCompany\\nTOS\\nPrivacy\\nAbout\\nJobs\\nWebsite\\nModels\\nDatasets\\nSpaces\\nPricing\\nDocs\\n\\n\\n\\nmodels_page\\nWebpage Title: Models - Hugging Face\\nWebpage Content:\\nHugging Face\\nModels\\nDatasets\\nSpaces\\nPosts\\nDocs\\nEnterprise\\nPricing\\nLog In\\nSign Up\\nEdit Models filters\\nTasks\\nLibraries\\nDatasets\\nLanguages\\nLicenses\\nOther\\nMultimodal\\nAudio-Text-to-Text\\nImage-Text-to-Text\\nVisual Question Answering\\nDocument Question Answering\\nVideo-Text-to-Text\\nVisual Document Retrieval\\nAny-to-Any\\nComputer Vision\\nDepth Estimation\\nImage Classification\\nObject Detection\\nImage Segmentation\\nText-to-Image\\nImage-to-Text\\nImage-to-Image\\nImage-to-Video\\nUnconditional Image Generation\\nVideo Classification\\nText-to-Video\\nZero-Shot Image Classification\\nMask Generation\\nZero-Shot Object Detection\\nText-to-3D\\nImage-to-3D\\nImage Feature Extraction\\nKeypoint Detection\\nNatural Language Processing\\nText Classification\\nToken Classification\\nTable Question Answering\\nQuestion Answering\\nZero-Shot Classification\\nTranslation\\nSummarization\\nFeature Extraction\\nText Generation\\nText2Text Generation\\nFill-Mask\\nSentence Similarity\\nText Ranking\\nAudio\\nText-to-Speech\\nText-to-Audio\\nAutomatic Speech Recognition\\nAudio-to-Audio\\nAudio Classification\\nVoice Activity Detection\\nTabular\\nTabular Classification\\nTabular Regression\\nTime Series Forecasting\\nReinforcement Learning\\nReinforcement Learning\\nRobotics\\nOther\\nGraph Machine Learning\\nApply filters\\nModels\\nFull-text search\\nAdd filters\\nSort:\\xa0\\n\\t\\tTrending\\nQwen/Qwen3-235B-A22B\\nText Generation\\n•\\nUpdated\\n3 days ago\\n•\\n28.6k\\n•\\n•\\n644\\ndeepseek-ai/DeepSeek-Prover-V2-671B\\nText Generation\\n•\\nUpdated\\n4 days ago\\n•\\n1.71k\\n•\\n•\\n627\\nnari-labs/Dia-1.6B\\nText-to-Speech\\n•\\nUpdated\\n7 days ago\\n•\\n108k\\n•\\n•\\n1.77k\\nQwen/Qwen3-30B-A3B\\nText Generation\\n•\\nUpdated\\n4 days ago\\n•\\n39.8k\\n•\\n•\\n428\\nQwen/Qwen3-32B\\nText Generation\\n•\\nUpdated\\n5 days ago\\n•\\n73k\\n•\\n•\\n263\\nQwen/Qwen3-8B\\nText Generation\\n•\\nUpdated\\n5 days ago\\n•\\n74.7k\\n•\\n205\\ntngtech/DeepSeek-R1T-Chimera\\nText Generation\\n•\\nUpdated\\n1 day ago\\n•\\n2.17k\\n•\\n212\\nXiaomiMiMo/MiMo-7B-RL\\nUpdated\\n4 days ago\\n•\\n1.92k\\n•\\n198\\nJetBrains/Mellum-4b-base\\nText Generation\\n•\\nUpdated\\n4 days ago\\n•\\n431\\n•\\n191\\nQwen/Qwen3-0.6B\\nText Generation\\n•\\nUpdated\\n5 days ago\\n•\\n63.7k\\n•\\n177\\nmoonshotai/Kimi-Audio-7B-Instruct\\nText-to-Speech\\n•\\nUpdated\\n6 days ago\\n•\\n3.09k\\n•\\n276\\nmicrosoft/Phi-4-reasoning-plus\\nText Generation\\n•\\nUpdated\\n1 day ago\\n•\\n1.67k\\n•\\n159\\nstepfun-ai/Step1X-Edit\\nImage-to-Image\\n•\\nUpdated\\n7 days ago\\n•\\n•\\n236\\nQwen/Qwen2.5-Omni-3B\\nAny-to-Any\\n•\\nUpdated\\n4 days ago\\n•\\n2.2k\\n•\\n151\\nQwen/Qwen3-4B\\nText Generation\\n•\\nUpdated\\n5 days ago\\n•\\n78.7k\\n•\\n146\\nmicrosoft/Phi-4-reasoning\\nText Generation\\n•\\nUpdated\\n1 day ago\\n•\\n1.37k\\n•\\n123\\nunsloth/Qwen3-30B-A3B-GGUF\\nText Generation\\n•\\nUpdated\\n2 days ago\\n•\\n137k\\n•\\n119\\nQwen/Qwen3-14B\\nText Generation\\n•\\nUpdated\\n5 days ago\\n•\\n63.5k\\n•\\n117\\nmicrosoft/bitnet-b1.58-2B-4T\\nText Generation\\n•\\nUpdated\\n3 days ago\\n•\\n43.3k\\n•\\n926\\nsand-ai/MAGI-1\\nImage-to-Video\\n•\\nUpdated\\n4 days ago\\n•\\n531\\nHiDream-ai/HiDream-E1-Full\\nAny-to-Any\\n•\\nUpdated\\n5 days ago\\n•\\n1.31k\\n•\\n109\\nnvidia/parakeet-tdt-0.6b-v2\\nAutomatic Speech Recognition\\n•\\nUpdated\\n3 days ago\\n•\\n1.19k\\n•\\n100\\nmicrosoft/Phi-4-mini-reasoning\\nText Generation\\n•\\nUpdated\\n3 days ago\\n•\\n1.91k\\n•\\n97\\nostris/Flex.2-preview\\nText-to-Image\\n•\\nUpdated\\n9 days ago\\n•\\n8.92k\\n•\\n314\\nFreepik/F-Lite\\nText-to-Image\\n•\\nUpdated\\n5 days ago\\n•\\n570\\n•\\n91\\nQwen/Qwen3-1.7B\\nText Generation\\n•\\nUpdated\\n5 days ago\\n•\\n53.8k\\n•\\n87\\nblack-forest-labs/FLUX.1-dev\\nText-to-Image\\n•\\nUpdated\\nAug 16, 2024\\n•\\n2.67M\\n•\\n•\\n10k\\nXiaomiMiMo/MiMo-7B-Base\\nUpdated\\n4 days ago\\n•\\n278\\n•\\n81\\nfdtn-ai/Foundation-Sec-8B\\nText Generation\\n•\\nUpdated\\n3 days ago\\n•\\n17.6k\\n•\\n79\\nTHUDM/GLM-4-32B-0414\\nText Generation\\n•\\nUpdated\\n3 days ago\\n•\\n14.6k\\n•\\n•\\n366\\nSystem theme\\nCompany\\nTOS\\nPrivacy\\nAbout\\nJobs\\nWebsite\\nModels\\nDatasets\\nSpaces\\nPricing\\nDocs\\n\\n\\n\\ndatasets_page\\nWebpage Title: Hugging Face – The AI community building the future.\\nWebpage Content:\\nHugging Face\\nModels\\nDatasets\\nSpaces\\nPosts\\nDocs\\nEnterprise\\nPricing\\nLog In\\nSign Up\\nEdit Datasets filters\\nMain\\nTasks\\nLibraries\\nLanguages\\nLicenses\\nOther\\nModalities\\n3D\\nAudio\\nGeospatial\\nImage\\nTabular\\nText\\nTime-series\\nVideo\\nSize\\n\\t\\t\\t(rows)\\nReset Size\\n< 1K\\n> 1T\\nFormat\\njson\\ncsv\\nparquet\\nimagefolder\\nsoundfolder\\nwebdataset\\ntext\\narrow\\nApply filters\\nDatasets\\n376,525\\nFull-text search\\nAdd filters\\nSort:\\xa0\\n\\t\\tTrending\\nnvidia/OpenMathReasoning\\nViewer\\n•\\nUpdated\\n10 days ago\\n•\\n5.47M\\n•\\n19.5k\\n•\\n163\\nnvidia/Nemotron-CrossThink\\nPreview\\n•\\nUpdated\\n3 days ago\\n•\\n299\\n•\\n33\\nnvidia/OpenCodeReasoning\\nViewer\\n•\\nUpdated\\n19 days ago\\n•\\n753k\\n•\\n15.6k\\n•\\n335\\nOpenGVLab/InternVL-Data\\nPreview\\n•\\nUpdated\\nabout 2 hours ago\\n•\\n6.98k\\n•\\n106\\nEureka-Lab/PHYBench\\nViewer\\n•\\nUpdated\\n8 days ago\\n•\\n1k\\n•\\n1.04k\\n•\\n47\\nrajpurkarlab/ReXGradient-160K\\nViewer\\n•\\nUpdated\\n2 days ago\\n•\\n160k\\n•\\n8\\n•\\n24\\ndeepseek-ai/DeepSeek-ProverBench\\nViewer\\n•\\nUpdated\\n4 days ago\\n•\\n325\\n•\\n387\\n•\\n20\\nAnthropic/values-in-the-wild\\nViewer\\n•\\nUpdated\\n6 days ago\\n•\\n6.91k\\n•\\n839\\n•\\n124\\nfka/awesome-chatgpt-prompts\\nViewer\\n•\\nUpdated\\nJan 6\\n•\\n203\\n•\\n13.9k\\n•\\n7.75k\\nRapidata/text-2-image-Rich-Human-Feedback-32k\\nViewer\\n•\\nUpdated\\n5 days ago\\n•\\n31.9k\\n•\\n616\\n•\\n14\\nopenai/gsm8k\\nViewer\\n•\\nUpdated\\nJan 4, 2024\\n•\\n17.6k\\n•\\n497k\\n•\\n715\\nnvidia/dynpose-100k\\nUpdated\\n9 days ago\\n•\\n1.44k\\n•\\n23\\nnvidia/When2Call\\nViewer\\n•\\nUpdated\\n5 days ago\\n•\\n28k\\n•\\n114\\n•\\n13\\nnvidia/describe-anything-dataset\\nViewer\\n•\\nUpdated\\n10 days ago\\n•\\n916k\\n•\\n6.36k\\n•\\n31\\nnyuuzyou/svgfind\\nViewer\\n•\\nUpdated\\n6 days ago\\n•\\n3.66M\\n•\\n172\\n•\\n12\\nzwhe99/DeepMath-103K\\nViewer\\n•\\nUpdated\\nabout 6 hours ago\\n•\\n103k\\n•\\n18.8k\\n•\\n164\\ngaia-benchmark/GAIA\\nUpdated\\nFeb 13\\n•\\n11.7k\\n•\\n314\\nHuggingFaceFW/fineweb\\nViewer\\n•\\nUpdated\\nJan 31\\n•\\n25B\\n•\\n842k\\n•\\n2.13k\\nFreedomIntelligence/medical-o1-reasoning-SFT\\nViewer\\n•\\nUpdated\\n12 days ago\\n•\\n90.1k\\n•\\n12.4k\\n•\\n671\\nKaichengalex/RealSyn100M\\nViewer\\n•\\nUpdated\\nFeb 19\\n•\\n89.6M\\n•\\n15.6k\\n•\\n12\\nsyCen/CameraBench\\nViewer\\n•\\nUpdated\\n5 days ago\\n•\\n1.07k\\n•\\n2.35k\\n•\\n12\\nAmod/mental_health_counseling_conversations\\nViewer\\n•\\nUpdated\\nApr 5, 2024\\n•\\n3.51k\\n•\\n3.9k\\n•\\n364\\nfuture-technologies/Universal-Transformers-Dataset\\nPreview\\n•\\nUpdated\\n4 days ago\\n•\\n7.29k\\n•\\n96\\nopen-r1/OpenR1-Math-220k\\nViewer\\n•\\nUpdated\\nFeb 18\\n•\\n450k\\n•\\n30.1k\\n•\\n568\\nnvidia/Llama-Nemotron-Post-Training-Dataset\\nViewer\\n•\\nUpdated\\n7 days ago\\n•\\n3.91M\\n•\\n9.01k\\n•\\n436\\nLLM360/MegaMath\\nViewer\\n•\\nUpdated\\n25 days ago\\n•\\n217M\\n•\\n68.9k\\n•\\n83\\nGiova-tech/sentiment-analysis-test\\nViewer\\n•\\nUpdated\\n18 days ago\\n•\\n349\\n•\\n509\\n•\\n9\\nqwertychri/sentiment-analysis-test\\nViewer\\n•\\nUpdated\\n18 days ago\\n•\\n349\\n•\\n489\\n•\\n8\\nwikimedia/wikipedia\\nViewer\\n•\\nUpdated\\nJan 9, 2024\\n•\\n61.6M\\n•\\n107k\\n•\\n795\\nCongliu/Chinese-DeepSeek-R1-Distill-data-110k\\nViewer\\n•\\nUpdated\\nFeb 21\\n•\\n110k\\n•\\n2.46k\\n•\\n652\\nPrevious\\n1\\n2\\n3\\n...\\n100\\nNext\\nSystem theme\\nCompany\\nTOS\\nPrivacy\\nAbout\\nJobs\\nWebsite\\nModels\\nDatasets\\nSpaces\\nPricing\\nDocs\\n\\n\\n\\nspaces_page\\nWebpage Title: Spaces - Hugging Face\\nWebpage Content:\\nHugging Face\\nModels\\nDatasets\\nSpaces\\nPosts\\nDocs\\nEnterprise\\nPricing\\nLog In\\nSign Up\\nSpaces\\n·\\nThe AI App Directory\\nNew Space\\nWhat is Spaces?\\nImage Generation\\nVideo Generation\\nText Generation\\nLanguage Translation\\nSpeech Synthesis\\n3D Modeling\\nObject Detection\\nText Analysis\\nImage Editing\\nCode Generation\\nQuestion Answering\\nData Visualization\\nVoice Cloning\\nBackground Removal\\nImage Upscaling\\nOCR\\nDocument Analysis\\nVisual QA\\nImage Captioning\\nChatbots\\nSentiment Analysis\\nText Summarization\\nMusic Generation\\nMedical Imaging\\nFinancial Analysis\\nGame AI\\nModel Benchmarking\\nFine Tuning Tools\\nDataset Creation\\nPose Estimation\\nFace Recognition\\nAnomaly Detection\\nRecommendation Systems\\nCharacter Animation\\nStyle Transfer\\nImage\\nSpaces of the week\\n28 Apr 2025\\nSort:\\xa0\\n\\t\\tRelevance\\nRunning\\non\\nZero\\n285\\nStep1X Edit\\n💻\\nEdit an image based on the given instruction.\\nstepfun-ai\\n6 days ago\\nRunning\\non\\nZero\\n245\\nDescribe Anything\\n⚡\\nDescribe image parts using masks\\nnvidia\\n3 days ago\\nRunning\\non\\nZero\\n397\\nInstantCharacter\\n🐢\\nCustomize characters with prompts and styles\\nInstantX\\n14 days ago\\nRunning\\n56\\nOS1 (Ultravox Llama 3.2 1b + Kokoro TTS + Whisper)\\n💻\\nIn-browser local conversational AI inspired by \\'Her\\'\\nwebml-community\\n11 days ago\\nRunning\\non\\nZero\\n75\\nVevo for Zero-shot VC, TTS, and More\\n🐠\\nControllable Zero-Shot Voice Imitation\\namphion\\n11 days ago\\nRunning\\n19\\nERNIE X1 Turbo Demo\\n😻\\nBAIDU\\'s Reasoning LLM, https://yiyan.baidu.com/\\nPaddlePaddle\\n9 days ago\\nRunning\\n32\\nHandwritten Digit Classifier\\n📈\\nAn interactive digit classification demo\\nJechen00\\n4 days ago\\nRunning\\non\\nZero\\n61\\nIP Composer\\n🎨\\nplug-and-play with visual concepts\\nIP-composer\\n17 days ago\\nAll running apps, trending first\\nRunning\\n5.86k\\nDeepSite\\n🐳\\nGenerate any application with DeepSeek\\nenzostvs\\n16 days ago\\nRunning\\n362\\nQwen3 Demo\\n📊\\nGenerate responses to user queries using conversation history\\nQwen\\n6 days ago\\nRunning\\non\\nZero\\n1.09k\\nDia 1.6B\\n👯\\nGenerate realistic dialogue from a script, using Dia!\\nnari-labs\\n8 days ago\\nRunning\\non\\nZero\\n285\\nStep1X Edit\\n💻\\nEdit an image based on the given instruction.\\nstepfun-ai\\n6 days ago\\nRunning\\non\\nZero\\n245\\nDescribe Anything\\n⚡\\nDescribe image parts using masks\\nnvidia\\n3 days ago\\nRunning\\non\\nZero\\n397\\nInstantCharacter\\n🐢\\nCustomize characters with prompts and styles\\nInstantX\\n14 days ago\\nRunning\\non\\nZero\\n2.5k\\nHunyuan3D-2.0\\n🌍\\nText-to-3D and Image-to-3D Generation\\ntencent\\n9 days ago\\nRunning\\non\\nZero\\n212\\nWaiNSFWIllustrious V110\\n🖼\\nGenerate images from textual prompts\\nretwpay\\nMar 19\\nRunning\\non\\nZero\\n97\\nICEdit\\n🖼\\nUniversal Image Editing is worth a single LoRA\\nRiverZ\\nabout 3 hours ago\\nRunning\\non\\nZero\\n206\\nFramePack图像到视频生成(5秒限制版)\\n🎬\\nGenerate video from an image\\nlisonallen\\n15 days ago\\nRunning\\non\\nZero\\n677\\nUNO FLUX\\n⚡\\nGenerate customized images using text and multiple images\\nbytedance-research\\n22 days ago\\nRunning\\non\\nCPU Upgrade\\n8.61k\\nKolors Virtual Try-On\\n👕\\nTry on virtual garments on person images\\nKwai-Kolors\\nSep 18, 2024\\nRunning\\non\\nZero\\n72\\nFantasyTalking\\n😻\\nGenerate realistic talking portrait videos from images and audio\\nacvlab\\n5 days ago\\nRunning\\non\\nCPU Upgrade\\n10k\\nAI Comic Factory\\n👩\\nCreate your own AI comic with a single prompt\\njbilcke-hf\\nOct 15, 2024\\nRunning\\non\\nZero\\n8.21k\\nFLUX.1 [dev]\\n🖥\\nGenerate images from text prompts\\nblack-forest-labs\\n18 days ago\\nRunning\\non\\nZero\\n3.46k\\nIC Light V2\\n📈\\nExecute custom code from environment variables\\nlllyasviel\\nOct 26, 2024\\nRunning\\non\\nCPU Upgrade\\n5.55k\\nMTEB Leaderboard\\n🥇\\nEmbedding Leaderboard\\nmteb\\n17 days ago\\nRunning\\non\\nCPU Upgrade\\n55\\nHiDream E1 Full\\n🚀\\nGenerate an edited image based on text instructions\\nHiDream-ai\\n4 days ago\\nRunning\\n126\\nMotionShop2\\n🏃\\nReplace characters in a video with characters in photos\\n3DAIGC\\n19 days ago\\nRunning\\n56\\nOS1 (Ultravox Llama 3.2 1b + Kokoro TTS + Whisper)\\n💻\\nIn-browser local conversational AI inspired by \\'Her\\'\\nwebml-community\\n11 days ago\\nRunning\\non\\nZero\\n1.72k\\nBackground Removal\\n🌘\\nRemove backgrounds from images\\nnot-lain\\nJan 2\\nRunning\\n395\\nDeepSite Gallery\\n🐋\\nBrowse apps made with DeepSite\\nvictor\\n26 days ago\\nRunning\\non\\nZero\\n2.27k\\nF5-TTS\\n🗣\\nF5-TTS & E2-TTS: Zero-Shot Voice Cloning (Unofficial Demo)\\nmrfakename\\nabout 9 hours ago\\nRunning\\non\\nZero\\n46\\nF Lite\\n🐠\\nF Lite image generator\\nFreepik\\n11 days ago\\nSystem theme\\nCompany\\nTOS\\nPrivacy\\nAbout\\nJobs\\nWebsite\\nModels\\nDatasets\\nSpaces\\nPricing\\nDocs\\n\\n\\n\\ndocs_page\\nWebpage Title: Hugging Face - Documentation\\nWebpage Content:\\nHugging Face\\nModels\\nDatasets\\nSpaces\\nPosts\\nDocs\\nEnterprise\\nPricing\\nLog In\\nSign Up\\nDocumentations\\nHub & Client Libraries\\nHub\\nHost Git-based models, datasets, and Spaces on the HF Hub\\nHub Python Library\\nPython client to interact with the Hugging Face Hub\\nHuggingface.js\\nJavaScript libraries for Hugging Face with built-in TS types\\nTasks\\nExplore demos, models, and datasets for any ML tasks\\nDataset viewer\\nAPI for metadata, stats, and content of HF Hub datasets\\nDeployment & Inference\\nInference Providers\\nCall 200k+ models hosted by our 10+ Inference partners\\nInference Endpoints (dedicated)\\nDeploy models on dedicated & fully managed infrastructure on HF\\nAmazon SageMaker\\nTrain/deploy Transformers models with SageMaker/HF DLCs\\nText Generation Inference\\nServe language models with TGI optimized toolkit\\nText Embeddings Inference\\nServe embeddings models with TEI optimized toolkit\\nCore ML Libraries\\nTransformers\\nState-of-the-art ML for PyTorch, TensorFlow, JAX\\nDiffusers\\nState-of-the-art Diffusion models in PyTorch\\nDatasets\\nAccess & share datasets for any ML tasks\\nTransformers.js\\nState-of-the-art ML running directly in your browser\\nTokenizers\\nFast tokenizers optimized for research & production\\nEvaluate\\nEvaluate and compare models performance\\ntimm\\nState-of-the-art vision models: layers, optimizers, and utilities\\nSentence Transformers\\nEmbeddings, Retrieval, and Reranking\\nTraining & Optimization\\nPEFT\\nParameter-efficient finetuning for large language models\\nAccelerate\\nTrain PyTorch models with multi-GPU, TPU, mixed precision\\nOptimum\\nOptimize HF Transformers for faster training/inference\\nAWS Trainium & Inferentia\\nTrain/deploy Transformers/Diffusers on AWS\\nTRL\\nTrain transformers LMs with reinforcement learning\\nSafetensors\\nSafe way to store/distribute neural network weights\\nBitsandbytes\\nOptimize and quantize models with bitsandbytes\\nLighteval\\nAll-in-one toolkit to evaluate LLMs across multiple backends\\nCollaboration & Extras\\nGradio\\nBuild ML demos and web apps with a few lines of Python\\nsmolagents\\nSmol library to build great agents in Python\\nAutoTrain\\nAutoTrain API and UI for seamless model training\\nChat UI\\nOpen source chat frontend powering HuggingChat\\nLeaderboards\\nCreate custom Leaderboards on Hugging Face\\nArgilla\\nCollaboration tool for building high-quality datasets\\nDistilabel\\nFramework for synthetic data generation and AI feedback\\nCommunity\\nBlog\\nLearn\\nDiscord\\nForum\\nGithub\\nSystem theme\\nCompany\\nTOS\\nPrivacy\\nAbout\\nJobs\\nWebsite\\nModels\\nDatasets\\nSpaces\\nPricing\\nDocs\\n\\n\\n\\ncommunity_page\\nWebpage Title: Hugging Face Forums - Hugging Face Community Discussion\\nWebpage Content:\\nHugging Face Forums\\nTopic\\nReplies\\nViews\\nActivity\\nQuestion about HuggingFaceChat\\nBeginners\\n1\\n12\\nMay 4, 2025\\nHow AI Sunny Helped Me Unlock the Secrets of The Tree Oil Painting\"\\nResearch\\n0\\n8\\nMay 3, 2025\\nHF Playground Incorrect Billing -\\nBeginners\\n1\\n13\\nMay 3, 2025\\nHuggingface payment system is having problems\\nBeginners\\n3\\n41\\nMay 2, 2025\\nAlternative options for API endpoints\\nCourse\\n0\\n19\\nMay 2, 2025\\nInference API stopped working\\nInference Endpoints on the Hub\\n28\\n973\\nApril 30, 2025\\nHow do i batch in streaming of data set\\nIntermediate\\n1\\n20\\nMay 3, 2025\\nError in HF Space Docker\\nBeginners\\n15\\n371\\nApril 22, 2025\\nSoftprompt for Llama generating gibberish output\\nBeginners\\n2\\n10\\nMay 3, 2025\\n500 Internal Error - We\\'re working hard to fix this as soon as possible\\n🤗Transformers\\n44\\n1581\\nApril 25, 2025\\nPhoto Maker Runtime Error\\nBeginners\\n3\\n35\\nMay 3, 2025\\nChapter 3 questions\\nCourse\\n139\\n9962\\nMay 3, 2025\\n403 Error: “Private repository storage limit reached” — quota shows space remaining\\n🤗Hub\\n1\\n35\\nMay 1, 2025\\nChecking if two column have the language i want\\nIntermediate\\n1\\n14\\nMay 1, 2025\\nSpace stuck for more than 1 hour\\nBeginners\\n4\\n25\\nMay 1, 2025\\nHuggingface get billing usage\\nBeginners\\n1\\n18\\nMay 2, 2025\\nHow do i load part of the data set\\nBeginners\\n2\\n26\\nMay 2, 2025\\nMy Space suddenly went offline. The CPU cannot restart\\nBeginners\\n24\\n419\\nApril 23, 2025\\nHow to get around rate limits?\\nBeginners\\n17\\n166\\nApril 23, 2025\\nWhen I\\'m downloading the weights, the cell keeps running and doesn\\'t stop. I need to fine tune Mistral-Small-3.1-24B-Instruct-2503 model\\n🤗Transformers\\n4\\n15\\nMay 2, 2025\\nText 2 Video -> Wan2_1-T2V-1_3B_fp32\\nModels\\n0\\n9\\nMay 2, 2025\\nRuntime Identity Drift in LLMs — Can We Stabilize Without Memory?\\nResearch\\n4\\n91\\nApril 28, 2025\\nWhy are only 2 of the RT-DETR v2 implemented losses actually used?\\n🤗Transformers\\n2\\n26\\nMay 2, 2025\\nLlama 4 access pending\\nBeginners\\n10\\n63\\nMay 3, 2025\\nEvaluate fine-tuned LLM for question answering\\nBeginners\\n1\\n14\\nMay 2, 2025\\nHow to setup JSON based workflow/flowchart generation based on user prompt?\\nIntermediate\\n0\\n8\\nMay 2, 2025\\nFinal Project evaluation\\nCourse\\n0\\n12\\nMay 2, 2025\\nGemma3TextModel weights\\nModels\\n1\\n16\\nMay 2, 2025\\nsentence-transformers/all-MiniLM-L6-v2 Not working all of a sudden\\nBeginners\\n7\\n48\\nApril 29, 2025\\nWhat if Claude is more than Claude?\\nBeginners\\n3\\n55\\nMay 3, 2025\\nnext page →\\nHome\\nCategories\\nGuidelines\\nTerms of Service\\nPrivacy Policy\\nPowered by\\nDiscourse\\n, best viewed with JavaScript enabled\\n\\n\\n\\ngithub_page\\nWebpage Title: Hugging Face · GitHub\\nWebpage Content:\\nSkip to content\\nNavigation Menu\\nToggle navigation\\nSign in\\nhuggingface\\nProduct\\nGitHub Copilot\\nWrite better code with AI\\nGitHub Advanced Security\\nFind and fix vulnerabilities\\nActions\\nAutomate any workflow\\nCodespaces\\nInstant dev environments\\nIssues\\nPlan and track work\\nCode Review\\nManage code changes\\nDiscussions\\nCollaborate outside of code\\nCode Search\\nFind more, search less\\nExplore\\nWhy GitHub\\nAll features\\nDocumentation\\nGitHub Skills\\nBlog\\nSolutions\\nBy company size\\nEnterprises\\nSmall and medium teams\\nStartups\\nNonprofits\\nBy use case\\nDevSecOps\\nDevOps\\nCI/CD\\nView all use cases\\nBy industry\\nHealthcare\\nFinancial services\\nManufacturing\\nGovernment\\nView all industries\\nView all solutions\\nResources\\nTopics\\nAI\\nDevOps\\nSecurity\\nSoftware Development\\nView all\\nExplore\\nLearning Pathways\\nEvents & Webinars\\nEbooks & Whitepapers\\nCustomer Stories\\nPartners\\nExecutive Insights\\nOpen Source\\nGitHub Sponsors\\nFund open source developers\\nThe ReadME Project\\nGitHub community articles\\nRepositories\\nTopics\\nTrending\\nCollections\\nEnterprise\\nEnterprise platform\\nAI-powered developer platform\\nAvailable add-ons\\nGitHub Advanced Security\\nEnterprise-grade security features\\nCopilot for business\\nEnterprise-grade AI features\\nPremium Support\\nEnterprise-grade 24/7 support\\nPricing\\nSearch or jump to...\\nSearch code, repositories, users, issues, pull requests...\\nSearch\\nClear\\nSearch syntax tips\\nProvide feedback\\nWe read every piece of feedback, and take your input very seriously.\\nInclude my email address so I can be contacted\\nCancel\\nSubmit feedback\\nSaved searches\\nUse saved searches to filter your results more quickly\\nCancel\\nCreate saved search\\nSign in\\nSign up\\nReseting focus\\nYou signed in with another tab or window.\\nReload\\nto refresh your session.\\nYou signed out in another tab or window.\\nReload\\nto refresh your session.\\nYou switched accounts on another tab or window.\\nReload\\nto refresh your session.\\nDismiss alert\\nHugging Face\\nThe AI community building the future.\\nVerified\\nWe\\'ve verified that the organization\\nhuggingface\\ncontrols the domain:\\nhuggingface.co\\nLearn more about verified organizations\\n48.4k\\nfollowers\\nNYC + Paris\\nhttps://huggingface.co/\\nX\\n@huggingface\\nOverview\\nRepositories\\nProjects\\nPackages\\nPeople\\nSponsoring\\n0\\nMore\\nOverview\\nRepositories\\nProjects\\nPackages\\nPeople\\nSponsoring\\nPinned\\nLoading\\ntransformers\\ntransformers\\nPublic\\n🤗 Transformers: State-of-the-art Machine Learning for Pytorch, TensorFlow, and JAX.\\nPython\\n144k\\n28.8k\\ndiffusers\\ndiffusers\\nPublic\\n🤗 Diffusers: State-of-the-art diffusion models for image, video, and audio generation in PyTorch and FLAX.\\nPython\\n28.8k\\n5.9k\\ndatasets\\ndatasets\\nPublic\\n🤗 The largest hub of ready-to-use datasets for ML models with fast, easy-to-use and efficient data manipulation tools\\nPython\\n20.1k\\n2.8k\\npeft\\npeft\\nPublic\\n🤗 PEFT: State-of-the-art Parameter-Efficient Fine-Tuning.\\nPython\\n18.3k\\n1.8k\\naccelerate\\naccelerate\\nPublic\\n🚀 A simple way to launch, train, and use PyTorch models on almost any device and distributed configuration, automatic mixed precision (including fp8), and easy-to-configure FSDP and DeepSpeed support\\nPython\\n8.7k\\n1.1k\\noptimum\\noptimum\\nPublic\\n🚀 Accelerate inference and training of 🤗 Transformers, Diffusers, TIMM and Sentence Transformers with easy to use hardware optimization tools\\nPython\\n2.9k\\n528\\nRepositories\\nLoading\\nType\\nSelect type\\nForks\\nArchived\\nMirrors\\nTemplates\\nLanguage\\nSelect language\\nAll\\nC\\nC#\\nC++\\nCuda\\nDockerfile\\nGo\\nHandlebars\\nHTML\\nJava\\nJavaScript\\nJupyter Notebook\\nKotlin\\nLua\\nMDX\\nMustache\\nNix\\nPython\\nRust\\nShell\\nSmarty\\nSvelte\\nSwift\\nTypeScript\\nSort\\nSelect order\\nLast updated\\nName\\nStars\\nShowing 10 of 307 repositories\\ngym-genesis\\nPublic\\nA gym environment for GENESIS\\nhuggingface/gym-genesis’s past year of commit activity\\nPython\\n11\\nApache-2.0\\n2\\n1\\n4\\nUpdated\\nMay 4, 2025\\noptimum-benchmark\\nPublic\\n🏋️ A unified multi-backend utility for benchmarking Transformers, Timm, PEFT, Diffusers and Sentence-Transformers with full support of Optimum\\'s hardware optimizations & quantization schemes.\\nhuggingface/optimum-benchmark’s past year of commit activity\\nPython\\n297\\nApache-2.0\\n58\\n9\\n(1 issue needs help)\\n1\\nUpdated\\nMay 4, 2025\\ncandle\\nPublic\\nMinimalist ML framework for Rust\\nhuggingface/candle’s past year of commit activity\\nRust\\n17,113\\nApache-2.0\\n1,093\\n410\\n(5 issues need help)\\n113\\nUpdated\\nMay 4, 2025\\nsmolagents\\nPublic\\n🤗 smolagents: a barebones library for agents that think in python code.\\nhuggingface/smolagents’s past year of commit activity\\nPython\\n17,944\\nApache-2.0\\n1,559\\n132\\n(1 issue needs help)\\n101\\nUpdated\\nMay 4, 2025\\nhub-docs\\nPublic\\nDocs of the Hugging Face Hub\\nhuggingface/hub-docs’s past year of commit activity\\nHandlebars\\n385\\nApache-2.0\\n298\\n106\\n25\\nUpdated\\nMay 4, 2025\\nhfendpoints\\nPublic\\nSDK for creating Hugging Face Inference Endpoints deployments\\nhuggingface/hfendpoints’s past year of commit activity\\nRust\\n2\\n1\\n0\\n1\\nUpdated\\nMay 3, 2025\\nxet-core\\nPublic\\nxet client tech, used in huggingface_hub\\nhuggingface/xet-core’s past year of commit activity\\nRust\\n92\\nApache-2.0\\n12\\n5\\n13\\nUpdated\\nMay 3, 2025\\ndiffusers\\nPublic\\n🤗 Diffusers: State-of-the-art diffusion models for image, video, and audio generation in PyTorch and FLAX.\\nhuggingface/diffusers’s past year of commit activity\\nPython\\n28,841\\nApache-2.0\\n5,922\\n500\\n(10 issues need help)\\n184\\nUpdated\\nMay 3, 2025\\nhf-workflows\\nPublic\\nhuggingface/hf-workflows’s past year of commit activity\\n5\\n7\\n0\\n1\\nUpdated\\nMay 3, 2025\\ntransformers\\nPublic\\n🤗 Transformers: State-of-the-art Machine Learning for Pytorch, TensorFlow, and JAX.\\nhuggingface/transformers’s past year of commit activity\\nPython\\n143,811\\nApache-2.0\\n28,839\\n1,057\\n(2 issues need help)\\n729\\nUpdated\\nMay 3, 2025\\nView all repositories\\nPeople\\nView all\\nTop languages\\nPython\\nJupyter Notebook\\nRust\\nTypeScript\\nJavaScript\\nMost used topics\\npytorch\\nmachine-learning\\nnlp\\ntransformers\\ndeep-learning\\nFooter\\n© 2025 GitHub,\\xa0Inc.\\nFooter navigation\\nTerms\\nPrivacy\\nSecurity\\nStatus\\nDocs\\nContact\\nManage cookies\\nDo not share my personal information\\nYou can’t perform that action at this time.\\n\\n\\n\\ntwitter_page\\nWebpage Title: No title found\\nWebpage Content:\\nJavaScript is not available.\\nWe’ve detected that JavaScript is disabled in this browser. Please enable JavaScript or switch to a supported browser to continue using x.com. You can see a list of supported browsers in our Help Center.\\nHelp Center\\nTerms of Service\\nPrivacy Policy\\nCookie Policy\\nImprint\\nAds info\\n© 2025 X Corp.\\nSomething went wrong, but don’t fret — let’s give it another shot.\\nTry again\\nSome privacy related extensions may cause issues on x.com. Please disable them and try again.\\n\\n\\n\\nlinkedin_page\\nWebpage Title: Hugging Face | LinkedIn\\nWebpage Content:\\nSkip to main content\\nLinkedIn\\nArticles\\nPeople\\nLearning\\nJobs\\nGames\\nGet the app\\nJoin now\\nSign in\\nHugging Face\\nSoftware Development\\nThe AI community building the future.\\nSee jobs\\nFollow\\nView all 533 employees\\nReport this company\\nAbout us\\nThe AI community building the future.\\nWebsite\\nhttps://huggingface.co\\nExternal link for Hugging Face\\nIndustry\\nSoftware Development\\nCompany size\\n51-200 employees\\nType\\nPrivately Held\\nFounded\\n2016\\nSpecialties\\nmachine learning, natural language processing, and deep learning\\nProducts\\nHugging Face\\nHugging Face\\nNatural Language Processing (NLP) Software\\nWe’re on a journey to solve and democratize artificial intelligence through natural language.\\nLocations\\nPrimary\\nGet directions\\nParis, FR\\nGet directions\\nEmployees at Hugging Face\\nLudovic Huraux\\nRajat Arya\\nTech Lead & Software Engineer @ HF | prev: co-founder XetHub, Apple, Turi, AWS, Microsoft\\nJeff Boudier\\nProduct + Growth at Hugging Face\\nTerrence Rohan\\nSeed Investor\\nSee all employees\\nUpdates\\nHugging Face\\nreposted this\\nBen Burtenshaw\\nMachine Learning Advocacy @ 🤗 Hugging Face\\n2d\\nReport this post\\nStill building with Qwen3-30B-A3B. The MoE variant was serious benchmark scores for 3B active params. I\\'ve got some handy stuff to share:\\n\\n1. Take the model out for a spin on Inference Providers:\\nhttps://lnkd.in/eAkUri43\\n2. If you\\'re running it locally.\\nUnsloth AI\\nis the place to start\\nhttps://lnkd.in/ehB86DHj\\n3. If you\\'re building inference yourself, the model card has practical tips for squeezing everything out of the model. Don\\'t miss this! 🔫 foot guns for me were managing reasoning chains and 32k output length!\\n\\n4. I share this notebook on fine-tuning the dense variant:\\nhttps://lnkd.in/e3Wu2wiP\\n5. And this script for LoRA SFT on the MoE:\\nhttps://lnkd.in/ehm4b2GU\\n6. I\\'m also keeping a logbook of the experiment so far in this thread:\\nhttps://lnkd.in/epgdNq9b\\n7. All the models, datasets, and scripts I\\'m building are in this collection:\\nhttps://lnkd.in/eSU3_Trk\\n277\\n9 Comments\\nLike\\nComment\\nShare\\nHugging Face\\nreposted this\\nBespoke Labs\\n2,311 followers\\n2d\\nReport this post\\nDeadline Extended To May 9th: ⏳ \\nYour ideas deserve a bit more breathing room, so we’re keeping the door open a little longer. The new submission deadline is May 9 at 11:59 PM PT. \\n\\nThanks to everyone who’s been contributing, let’s keep the momentum going!\\n\\n📂 Browse current submissions:\\nhttps://lnkd.in/gb-2EGkY\\n25\\n2 Comments\\nLike\\nComment\\nShare\\nHugging Face\\nreposted this\\nGradio\\n63,111 followers\\n3d\\nReport this post\\n🚀 🤩 BIG ANNOUNCEMENT: Build an MCP Server in 5 Lines of Python with Gradio!\\n\\nThe Model Context Protocol (MCP) is revolutionizing how LLMs access tools, but implementation has been complex... until now. 😉 \\n\\nWith our latest release, any Gradio app BECOMES an MCP server with ONE simple parameter:\\ndemo.launch\\n(mcp_server=True)\\n\\nThis means your custom Python functions—from image generators to specialized calculators—can be instantly available to Claude, Cursor, and other MCP-compatible LLMs.\\n\\n📈 What this enables:\\n- Enhance LLMs with domain-specific capabilities or tools\\n- 🤯👉DEPLOY YOUR MCP SERVERS FOR FREE ON Hugging Face Spaces👈🤯\\n- Automatic file handling and data conversion for your MCP Server (this is 🔥) \\n\\nLearn how to build your MCP server from our small release blog:\\nhttps://lnkd.in/gvUnFxKE\\nHow would you extend LLM capabilities with your own tools?\\n1,502\\n65 Comments\\nLike\\nComment\\nShare\\nHugging Face\\nreposted this\\nAymeric Roucher\\nLeading agents @ Hugging Face 🤗 | Polytechnique - Cambridge\\n3d\\nReport this post\\nThe agentic framework of\\nHugging Face\\n, smolagents, is the tinyest ever. It implements fewer features than other frameworks -> that\\'s the feature.\\n\\n➡️ The main issue among agentic frameworks is complexity : they tend to pile up abstractions, trying to solve everything rather than bein part of a bigger workflow. So instead of making the all-encompassing factory, we set out to make the smallest possible framework for agents, the one that would just provide the essential building blocks and let users build the rest.\\n\\n💡 Optimizing for reducing size is interesting, because it forces you to consider simplicity at each step :\\n- do we need this abstraction, won\\'t it make the code less readable?\\n- instead of adding this feature, why shouldn\\'t we just provide the building blocks that will let users build it for themselves?\\n\\nGo try it out! Now there\\'s a short course on Deeplearning AI if you want to get onboard! 🚀\\n438\\n32 Comments\\nLike\\nComment\\nShare\\nHugging Face\\nreposted this\\nGradio\\n63,111 followers\\n3d\\nEdited\\nReport this post\\n🤩 FantasyTalking -- Realistic talking portrait generations have never been this good! 👇\\n…more\\n106\\n7 Comments\\nLike\\nComment\\nShare\\nHugging Face\\nreposted this\\nGradio\\n63,111 followers\\n4d\\nReport this post\\nFreepik has released image gen models trained on 80 million commercially licensed images💯👌\\n\\n- Models are called F Lite image generation models\\n- Come in two flavors: standard and texture\\n- Standard is more prompt-faithful, Texture delivers better textures and more \"creative\" results\\n- Needs GPU with >=24GB of VRAM to run\\n- Permissive CreativeML Open RAIL-M License\\n…more\\n73\\n4 Comments\\nLike\\nComment\\nShare\\nHugging Face\\nreposted this\\nMerve Noyan\\nopen-sourceress at 🤗 | Google Developer Expert in Machine Learning, MSc Candidate in Data Science\\n4d\\nReport this post\\nMeta released Llama Guard 4 and new Prompt Guard 2 models 🦙❤️\\n\\n> Llama Guard 4 is a new model to filter model inputs/outputs both text-only and image 🛡️ use it before and after LLMs/VLMs!\\n> Prompt Guard 2 22M & 86M are smol models to prevent model jailbreaks and prompt injections ⚔️\\n> Both come with new release of transformers 🤗 \\nFind links to our explanatory blog and notebook in comments 💬\\n510\\n7 Comments\\nLike\\nComment\\nShare\\nHugging Face\\nreposted this\\nKalyan Dutia\\nHead of Data Science at Climate Policy Radar\\n5d\\nReport this post\\nTwo exciting open data announcements:\\n- We’ve updated\\nClimate Policy Radar\\n\\'s open data on\\nHugging Face\\nHub, giving you the full, translated text of climate laws & policies plus the most recent UNFCCC submissions\\n- With help from\\nJan Ainali\\nand\\nStuart Prior\\n, climate laws & policies are started to get added to\\nWikidata\\nwith links back to our tools! I\\'m really happy our data can be used to improve the quality of Wikidata, and am hoping this will lead to better Wikipedia pages about climate policy with more language coverage 💪\\n\\n(We\\'re on the lookout for any Wikimedia volunteers who might be able to help get more documents onto Wikidata, so drop me a DM if you could!)\\n\\nLinks in comments 👇\\n69\\n5 Comments\\nLike\\nComment\\nShare\\nHugging Face\\nreposted this\\nBen Burtenshaw\\nMachine Learning Advocacy @ 🤗 Hugging Face\\n5d\\nReport this post\\nJust shipped a space for image generation on any LoRA adapter from the\\nHugging Face\\nhub. \\n\\n🔗\\nhttps://lnkd.in/eeFmv3t4\\nYou can do this:\\n\\n- describe an image to generate\\n- pick any community lora adapter from the hub. i.e. ghibli, photorealism, etc\\n- generate the image in seconds, powered by inference providers and\\nfal\\nLet me know what you build with LoRA or inference providers.\\n…more\\n84\\n3 Comments\\nLike\\nComment\\nShare\\nHugging Face\\nreposted this\\nMikolaj Czerkawski\\nCo-Founder & Partner Scientist @ Asterisk Labs | ex-Research Fellow @ European Space Agency Φ-lab\\n6d\\nReport this post\\n⚠️ Nearly 40 billion (39,820,373,479) new embeddings of Major TOM Copernicus data now released!\\n\\nTogether with\\nCloudFerro S.A.\\n,\\nEuropean Space Agency - ESA\\n, and\\nasterisk labs\\nwe continue expanding the Major TOM project and its set of open embedding datasets.\\n\\nToday, we make publicly available 3 new expansions:\\n\\n✅ DeCUR - Sentinel-2 L1C - another ResNet model (developed by\\nYi Wang\\n) focused on learning both common and unique representations between MSI and SAR.\\n🤗\\nhttps://lnkd.in/da7CKJ28\\n✅ DeCUR - Sentinel-1 RTC - the second Major TOM embedding dataset of Sentinel-1 data with stunning PCA visualisations!\\n🤗\\nhttps://lnkd.in/dfaNUZmJ\\n✅ MMEarth - Sentinel-2 L2A - our first embedding of complete L2A (atmospherically corrected) Sentinel-2 data and also the first one where we release dense embeddings (133 x 133 vectors) for each grid cell. It is an embedding dataset that in fact occupies more space than the input data, unlike the previous ones. Big thanks to\\nVishal Nedungadi\\nand\\nNico Lang\\nfor directly supporting our efforts!\\n🤗\\nhttps://lnkd.in/dQ3SzfGU\\nThe datasets are available for instant use on\\nHugging Face\\n, except for MMEarth, which due to storage limitations has been downsampled from 133x133 resolution to 13x13. Full versions of the datasets are available on\\nCREODIAS\\nhttps://creodias.eu/\\n.\\n\\n🎙️\\nMarcin Kluczek\\nwho spearheaded the challenge of embedding hundreds of terabytes of data will present today at\\nEuropean Geosciences Union (EGU)\\nat 9:40:\\nhttps://lnkd.in/d6w48rym\\nBig kudos to\\nJędrzej S. Bojanowski\\nfor supporting our joint effort towards open embeddings of Copernicus!\\n343\\n22 Comments\\nLike\\nComment\\nShare\\nJoin now to see what you are missing\\nFind people you know at Hugging Face\\nBrowse recommended jobs for you\\nView all updates, news, and articles\\nJoin now\\nSimilar pages\\nAnthropic\\nResearch Services\\nPerplexity\\nSoftware Development\\nSan Francisco, California\\nMistral AI\\nTechnology, Information and Internet\\nParis, France\\nOpenAI\\nResearch Services\\nSan Francisco, CA\\nLangChain\\nTechnology, Information and Internet\\nGenerative AI\\nTechnology, Information and Internet\\nDeepLearning.AI\\nSoftware Development\\nPalo Alto, California\\nGoogle DeepMind\\nResearch Services\\nLondon, London\\nCohere\\nSoftware Development\\nToronto, Ontario\\nLlamaIndex\\nTechnology, Information and Internet\\nSan Francisco, California\\nShow more similar pages\\nShow fewer similar pages\\nBrowse jobs\\nEngineer jobs\\n555,845 open jobs\\nMachine Learning Engineer jobs\\n148,937 open jobs\\nScientist jobs\\n48,969 open jobs\\nSoftware Engineer jobs\\n300,699 open jobs\\nAnalyst jobs\\n694,057 open jobs\\nIntern jobs\\n71,196 open jobs\\nDeveloper jobs\\n258,935 open jobs\\nManager jobs\\n1,880,925 open jobs\\nProduct Manager jobs\\n199,941 open jobs\\nDirector jobs\\n1,220,357 open jobs\\nPython Developer jobs\\n46,642 open jobs\\nData Scientist jobs\\n264,158 open jobs\\nData Analyst jobs\\n329,009 open jobs\\nSenior Software Engineer jobs\\n78,145 open jobs\\nProject Manager jobs\\n253,048 open jobs\\nResearcher jobs\\n195,654 open jobs\\nAssociate jobs\\n1,091,945 open jobs\\nData Engineer jobs\\n192,126 open jobs\\nVice President jobs\\n235,270 open jobs\\nSpecialist jobs\\n768,666 open jobs\\nShow more jobs like this\\nShow fewer jobs like this\\nFunding\\nHugging Face\\n8 total rounds\\nLast Round\\nSeries unknown\\nSep 1, 2024\\nExternal Crunchbase Link for last round of funding\\nSee more info on\\ncrunchbase\\nMore searches\\nMore searches\\nEngineer jobs\\nScientist jobs\\nMachine Learning Engineer jobs\\nSoftware Engineer jobs\\nIntern jobs\\nDeveloper jobs\\nAnalyst jobs\\nManager jobs\\nSenior Software Engineer jobs\\nData Scientist jobs\\nResearcher jobs\\nProduct Manager jobs\\nDirector jobs\\nAssociate jobs\\nIntelligence Specialist jobs\\nData Analyst jobs\\nData Science Specialist jobs\\nPython Developer jobs\\nQuantitative Analyst jobs\\nProject Manager jobs\\nAccount Executive jobs\\nSpecialist jobs\\nData Engineer jobs\\nDesigner jobs\\nQuantitative Researcher jobs\\nConsultant jobs\\nSolutions Architect jobs\\nVice President jobs\\nUser Experience Designer jobs\\nHead jobs\\nFull Stack Engineer jobs\\nEngineering Manager jobs\\nSoftware Engineer Intern jobs\\nJunior Software Engineer jobs\\nSoftware Intern jobs\\nProduct Designer jobs\\nSolutions Engineer jobs\\nStaff Software Engineer jobs\\nProgram Manager jobs\\nSenior Scientist jobs\\nWriter jobs\\nResearch Intern jobs\\nSenior Product Manager jobs\\nSummer Intern jobs\\nAccount Manager jobs\\nRecruiter jobs\\nLead jobs\\nResearch Engineer jobs\\nComputer Science Intern jobs\\nPlatform Engineer jobs\\nJunior Developer jobs\\nAndroid Developer jobs\\nUser Experience Researcher jobs\\nJava Software Engineer jobs\\nSite Reliability Engineer jobs\\nGraduate jobs\\nSoftware Engineering Manager jobs\\nRepresentative jobs\\nBusiness Development Specialist jobs\\nComputer Engineer jobs\\nLinkedIn\\n© 2025\\nAbout\\nAccessibility\\nUser Agreement\\nPrivacy Policy\\nCookie Policy\\nCopyright Policy\\nBrand Policy\\nGuest Controls\\nCommunity Guidelines\\nالعربية (Arabic)\\nবাংলা (Bangla)\\nČeština (Czech)\\nDansk (Danish)\\nDeutsch (German)\\nΕλληνικά (Greek)\\nEnglish (English)\\nEspañol (Spanish)\\nفارسی (Persian)\\nSuomi (Finnish)\\nFrançais (French)\\nहिंदी (Hindi)\\nMagyar (Hungarian)\\nBahasa Indonesia (Indonesian)\\nItaliano (Italian)\\nעברית (Hebrew)\\n日本語 (Japanese)\\n한국어 (Korean)\\nमराठी (Marathi)\\nBahasa Malaysia (Malay)\\nNederlands (Dutch)\\nNorsk (Norwegian)\\nਪੰਜਾਬੀ (Punjabi)\\nPolski (Polish)\\nPortuguês (Portuguese)\\nRomână (Romanian)\\nРусский (Russian)\\nSvenska (Swedish)\\nతెలుగు (Telugu)\\nภาษาไทย (Thai)\\nTagalog (Tagalog)\\nTürkçe (Turkish)\\nУкраїнська (Ukrainian)\\nTiếng Việt (Vietnamese)\\n简体中文 (Chinese (Simplified))\\n正體中文 (Chinese (Traditional))\\nLanguage\\nAgree & Join LinkedIn\\nBy clicking Continue to join or sign in, you agree to LinkedIn’s\\nUser Agreement\\n,\\nPrivacy Policy\\n, and\\nCookie Policy\\n.\\nSign in to see who you already know at Hugging Face\\nSign in\\nWelcome back\\nEmail or phone\\nPassword\\nShow\\nForgot password?\\nSign in\\nor\\nBy clicking Continue to join or sign in, you agree to LinkedIn’s\\nUser Agreement\\n,\\nPrivacy Policy\\n, and\\nCookie Policy\\n.\\nNew to LinkedIn?\\nJoin now\\nor\\nNew to LinkedIn?\\nJoin now\\nBy clicking Continue to join or sign in, you agree to LinkedIn’s\\nUser Agreement\\n,\\nPrivacy Policy\\n, and\\nCookie Policy\\n.\\nLinkedIn\\nLinkedIn is better on the app\\nDon’t have the app? Get it in the Microsoft Store.\\nOpen the app\\n\\nYou are looking at a company called HuggingFace.\\nHere are the contents of its landing page and other relevant pages; use this information to build a short brochure of the company in markdown.\\nLanding page:\\nWebpage Title: Hugging Face – The AI community building the future.\\nWebpage Content:\\nHugging Face\\nModels\\nDatasets\\nSpaces\\nPosts\\nDocs\\nEnterprise\\nPricing\\nLog In\\nSign Up\\nThe AI community building the future.\\nThe platform where the machine learning community collaborates on models, datasets, and applications.\\nExplore AI Apps\\nor\\nBrowse 1M+ models\\nTrending on\\nthis week\\nModels\\nQwen/Qwen3-235B-A22B\\nUpdated\\n3 days ago\\n•\\n28.6k\\n•\\n644\\ndeepseek-ai/DeepSeek-Prover-V2-671B\\nUpdated\\n4 days ago\\n•\\n1.71k\\n•\\n627\\nnari-labs/Dia-1.6B\\nUpdated\\n7 days ago\\n•\\n108k\\n•\\n1.77k\\nQwen/Qwen3-30B-A3B\\nUpdated\\n4 days ago\\n•\\n39.8k\\n•\\n428\\nQwen/Qwen3-32B\\nUpdated\\n5 days ago\\n•\\n73k\\n•\\n263\\nBrowse 1M+ models\\nSpaces\\nRunning\\n5.86k\\n5.86k\\nDeepSite\\n🐳\\nGenerate any application with DeepSeek\\nRunning\\n362\\n362\\nQwen3 Demo\\n📊\\nGenerate responses to user queries using conversation history\\nRunning\\non\\nZero\\n1.09k\\n1.09k\\nDia 1.6B\\n👯\\nGenerate realistic dialogue from a script, using Dia!\\nRunning\\non\\nZero\\n285\\n285\\nStep1X Edit\\n💻\\nEdit an image based on the given instruction.\\nRunning\\non\\nZero\\n245\\n245\\nDescribe Anything\\n⚡\\nDescribe image parts using masks\\nBrowse 400k+ applications\\nDatasets\\nnvidia/OpenMathReasoning\\nUpdated\\n10 days ago\\n•\\n19.5k\\n•\\n163\\nnvidia/Nemotron-CrossThink\\nUpdated\\n3 days ago\\n•\\n299\\n•\\n33\\nnvidia/OpenCodeReasoning\\nUpdated\\n19 days ago\\n•\\n15.6k\\n•\\n335\\nOpenGVLab/InternVL-Data\\nUpdated\\nabout 2 hours ago\\n•\\n6.98k\\n•\\n106\\nEureka-Lab/PHYBench\\nUpdated\\n8 days ago\\n•\\n1.04k\\n•\\n47\\nBrowse 250k+ datasets\\nThe Home of Machine Learning\\nCreate, discover and collaborate on ML better.\\nThe collaboration platform\\nHost and collaborate on unlimited public models, datasets and applications.\\nMove faster\\nWith the HF Open source stack.\\nExplore all modalities\\nText, image, video, audio or even 3D.\\nBuild your portfolio\\nShare your work with the world and build your ML profile.\\nSign Up\\nAccelerate your ML\\nWe provide paid Compute and Enterprise solutions.\\nCompute\\nDeploy on optimized\\nInference Endpoints\\nor update your\\nSpaces applications\\nto a GPU in a few clicks.\\nView pricing\\nStarting at $0.60/hour for GPU\\nEnterprise\\nGive your team the most advanced platform to build AI with enterprise-grade security, access controls and\\n\\t\\t\\tdedicated support.\\nGetting started\\nStarting at $20/user/month\\nSingle Sign-On\\nRegions\\nPriority Support\\nAudit Logs\\nResource Groups\\nPrivate Datasets Viewer\\nMore than 50,000 organizations are using Hugging Face\\nAi2\\nEnterprise\\nnon-profit\\n•\\n756 models\\n•\\n3.19k followers\\nAI at Meta\\nEnterprise\\ncompany\\n•\\n2.12k models\\n•\\n5.78k followers\\nAmazon\\ncompany\\n•\\n20 models\\n•\\n3.11k followers\\nGoogle\\ncompany\\n•\\n991 models\\n•\\n12.7k followers\\nIntel\\ncompany\\n•\\n220 models\\n•\\n2.5k followers\\nMicrosoft\\ncompany\\n•\\n375 models\\n•\\n12k followers\\nGrammarly\\nEnterprise\\ncompany\\n•\\n10 models\\n•\\n156 followers\\nWriter\\nEnterprise\\ncompany\\n•\\n21 models\\n•\\n266 followers\\nOur Open Source\\nWe are building the foundation of ML tooling with the community.\\nTransformers\\n143,809\\nState-of-the-art ML for PyTorch, TensorFlow, JAX\\nDiffusers\\n28,840\\nState-of-the-art Diffusion models in PyTorch\\nSafetensors\\n3,251\\nSafe way to store/distribute neural network weights\\nHub Python Library\\n2,573\\nPython client to interact with the Hugging Face Hub\\nTokenizers\\n9,651\\nFast tokenizers optimized for research & production\\nTRL\\n13,572\\nTrain transformers LMs with reinforcement learning\\nTransformers.js\\n13,540\\nState-of-the-art ML running directly in your browser\\nsmolagents\\n17,944\\nSmol library to build great agents in Python\\nPEFT\\n18,288\\nParameter-efficient finetuning for large language models\\nDatasets\\n20,062\\nAccess & share datasets for any ML tasks\\nText Generation Inference\\n10,078\\nServe language models with TGI optimized toolkit\\nAccelerate\\n8,674\\nTrain PyTorch models with multi-GPU, TPU, mixed precision\\nSystem theme\\nWebsite\\nModels\\nDatasets\\nSpaces\\nTasks\\nInference Endpoints\\nHuggingChat\\nCompany\\nAbout\\nBrand assets\\nTerms of service\\nPrivacy\\nJobs\\nPress\\nResources\\nLearn\\nDocumentation\\nBlog\\nForum\\nService Status\\nSocial\\nGitHub\\nTwitter\\nLinkedIn\\nDiscord\\n\\n\\n\\nabout_page\\nWebpage Title: Hugging Face – The AI community building the future.\\nWebpage Content:\\nHugging Face\\nModels\\nDatasets\\nSpaces\\nPosts\\nDocs\\nEnterprise\\nPricing\\nLog In\\nSign Up\\nThe AI community building the future.\\nThe platform where the machine learning community collaborates on models, datasets, and applications.\\nExplore AI Apps\\nor\\nBrowse 1M+ models\\nTrending on\\nthis week\\nModels\\nQwen/Qwen3-235B-A22B\\nUpdated\\n3 days ago\\n•\\n28.6k\\n•\\n644\\ndeepseek-ai/DeepSeek-Prover-V2-671B\\nUpdated\\n4 days ago\\n•\\n1.71k\\n•\\n627\\nnari-labs/Dia-1.6B\\nUpdated\\n7 days ago\\n•\\n108k\\n•\\n1.77k\\nQwen/Qwen3-30B-A3B\\nUpdated\\n4 days ago\\n•\\n39.8k\\n•\\n428\\nQwen/Qwen3-32B\\nUpdated\\n5 days ago\\n•\\n73k\\n•\\n263\\nBrowse 1M+ models\\nSpaces\\nRunning\\n5.86k\\n5.86k\\nDeepSite\\n🐳\\nGenerate any application with DeepSeek\\nRunning\\n362\\n362\\nQwen3 Demo\\n📊\\nGenerate responses to user queries using conversation history\\nRunning\\non\\nZero\\n1.09k\\n1.09k\\nDia 1.6B\\n👯\\nGenerate realistic dialogue from a script, using Dia!\\nRunning\\non\\nZero\\n285\\n285\\nStep1X Edit\\n💻\\nEdit an image based on the given instruction.\\nRunning\\non\\nZero\\n245\\n245\\nDescribe Anything\\n⚡\\nDescribe image parts using masks\\nBrowse 400k+ applications\\nDatasets\\nnvidia/OpenMathReasoning\\nUpdated\\n10 days ago\\n•\\n19.5k\\n•\\n163\\nnvidia/Nemotron-CrossThink\\nUpdated\\n3 days ago\\n•\\n299\\n•\\n33\\nnvidia/OpenCodeReasoning\\nUpdated\\n19 days ago\\n•\\n15.6k\\n•\\n335\\nOpenGVLab/InternVL-Data\\nUpdated\\nabout 2 hours ago\\n•\\n6.98k\\n•\\n106\\nEureka-Lab/PHYBench\\nUpdated\\n8 days ago\\n•\\n1.04k\\n•\\n47\\nBrowse 250k+ datasets\\nThe Home of Machine Learning\\nCreate, discover and collaborate on ML better.\\nThe collaboration platform\\nHost and collaborate on unlimited public models, datasets and applications.\\nMove faster\\nWith the HF Open source stack.\\nExplore all modalities\\nText, image, video, audio or even 3D.\\nBuild your portfolio\\nShare your work with the world and build your ML profile.\\nSign Up\\nAccelerate your ML\\nWe provide paid Compute and Enterprise solutions.\\nCompute\\nDeploy on optimized\\nInference Endpoints\\nor update your\\nSpaces applications\\nto a GPU in a few clicks.\\nView pricing\\nStarting at $0.60/hour for GPU\\nEnterprise\\nGive your team the most advanced platform to build AI with enterprise-grade security, access controls and\\n\\t\\t\\tdedicated support.\\nGetting started\\nStarting at $20/user/month\\nSingle Sign-On\\nRegions\\nPriority Support\\nAudit Logs\\nResource Groups\\nPrivate Datasets Viewer\\nMore than 50,000 organizations are using Hugging Face\\nAi2\\nEnterprise\\nnon-profit\\n•\\n756 models\\n•\\n3.19k followers\\nAI at Meta\\nEnterprise\\ncompany\\n•\\n2.12k models\\n•\\n5.78k followers\\nAmazon\\ncompany\\n•\\n20 models\\n•\\n3.11k followers\\nGoogle\\ncompany\\n•\\n991 models\\n•\\n12.7k followers\\nIntel\\ncompany\\n•\\n220 models\\n•\\n2.5k followers\\nMicrosoft\\ncompany\\n•\\n375 models\\n•\\n12k followers\\nGrammarly\\nEnterprise\\ncompany\\n•\\n10 models\\n•\\n156 followers\\nWriter\\nEnterprise\\ncompany\\n•\\n21 models\\n•\\n266 followers\\nOur Open Source\\nWe are building the foundation of ML tooling with the community.\\nTransformers\\n1'"
      ]
     },
     "execution_count": 31,
     "metadata": {},
     "output_type": "execute_result"
    }
   ],
   "source": [
    "get_brochure_user_prompt(\"HuggingFace\", \"https://huggingface.co\")"
   ]
  },
  {
   "cell_type": "markdown",
   "id": "3707f44c",
   "metadata": {},
   "source": [
    "#### 5. Generating the Brochure Content\n",
    "\n",
    "The `create_brochure` function uses the gpt-4o-mini model to generate the brochure content. It takes the company name and URL as input, fetches the website content, identifies relevant links, and then prompts the LLM to create a brochure."
   ]
  },
  {
   "cell_type": "code",
   "execution_count": 32,
   "id": "b380b94c",
   "metadata": {},
   "outputs": [],
   "source": [
    "def create_brochure(company_name, url):\n",
    "    response = openai.chat.completions.create(\n",
    "        model=MODEL,\n",
    "        messages=[\n",
    "            {\"role\": \"system\", \"content\": system_prompt},\n",
    "            {\"role\": \"user\", \"content\": get_brochure_user_prompt(company_name, url)}\n",
    "        ],\n",
    "    )\n",
    "    result = response.choices[0].message.content\n",
    "    display(Markdown(result))"
   ]
  },
  {
   "cell_type": "markdown",
   "id": "560be46b",
   "metadata": {},
   "source": [
    "#### 6. Running the Example\n"
   ]
  },
  {
   "cell_type": "code",
   "execution_count": 33,
   "id": "d64697fd",
   "metadata": {},
   "outputs": [
    {
     "name": "stdout",
     "output_type": "stream",
     "text": [
      "Found links: {'links': [{'type': 'about_page', 'url': 'https://huggingface.co/huggingface'}, {'type': 'careers_page', 'url': 'https://apply.workable.com/huggingface/'}, {'type': 'enterprise_page', 'url': 'https://huggingface.co/enterprise'}, {'type': 'posts_page', 'url': 'https://huggingface.co/posts'}, {'type': 'blog_page', 'url': 'https://huggingface.co/blog'}, {'type': 'community_page', 'url': 'https://discuss.huggingface.co'}, {'type': 'social_media_page', 'url': 'https://twitter.com/huggingface'}, {'type': 'linkedin_page', 'url': 'https://www.linkedin.com/company/huggingface/'}]}\n"
     ]
    },
    {
     "data": {
      "text/markdown": [
       "# Welcome to Hugging Face\n",
       "\n",
       "## The AI Community Building the Future\n",
       "\n",
       "Hugging Face is a pioneering company dedicated to democratizing machine learning and artificial intelligence. With over **1 million models** and **250,000 datasets**, we provide a collaborative platform for researchers, developers, and enthusiasts in the machine learning community to share, innovate, and advance the state of AI technology.\n",
       "\n",
       "---\n",
       "\n",
       "### What We Offer\n",
       "\n",
       "**Collaboration Platform**  \n",
       "Join a global network where you can create, discover, and collaborate on machine learning models, datasets, and applications.\n",
       "\n",
       "- **Models**: Explore the latest trending models like Qwen/Qwen3 and DeepSeek-Prover.\n",
       "- **Datasets**: Access a rich repository of datasets for any ML task, including OpenMathReasoning and OpenCodeReasoning.\n",
       "- **Spaces**: Experiment and run applications in a user-friendly interface, optimized for development.\n",
       "\n",
       "---\n",
       "\n",
       "### Why Choose Hugging Face?\n",
       "\n",
       "- **Community-Driven**: Actively engage with more than **50,000 organizations** including industry giants like **Google**, **Amazon**, and **Microsoft** who trust our platform.\n",
       "\n",
       "- **Open Source**: We believe in transparency and availability. Contribute to our models and explore extensive resources including Transformers, Tokenizers, and more.\n",
       "\n",
       "- **Enterprise Solutions**: With specialized features for organizations, Hugging Face provides security, access controls, and prioritized support to help your team effectively build AI applications.\n",
       "\n",
       "---\n",
       "\n",
       "### Company Culture\n",
       "\n",
       "We are on a mission to **democratize good machine learning**, making it accessible for everyone involved in the AI ecosystem. Our community is composed of **over 200 dedicated employees** who continually contribute to fostering an inclusive and innovative work environment. \n",
       "\n",
       "We encourage continuous learning, collaboration, and creativity, allowing our team members to thrive and push the boundaries of what's possible in AI.\n",
       "\n",
       "---\n",
       "\n",
       "### Career Opportunities\n",
       "\n",
       "We're constantly looking for talented individuals to join our dynamic team. If you're passionate about **AI**, **machine learning**, or **software development**, consider exploring open positions with us. Dive into the world of cutting-edge AI technology and help us shape the future with your expertise.\n",
       "\n",
       "- **Explore Open Positions**: Join our collaborative work environment that values innovation and learning.\n",
       "\n",
       "---\n",
       "\n",
       "### Join Us!\n",
       "\n",
       "Whether you're looking to leverage our powerful tools in your projects, become a part of our thriving community, or start a career with us, Hugging Face is the place to be. \n",
       "\n",
       "**Contact Us | [Visit Our Website](https://huggingface.co)**\n",
       "\n",
       "_huggingface - The AI community building the future._"
      ],
      "text/plain": [
       "<IPython.core.display.Markdown object>"
      ]
     },
     "metadata": {},
     "output_type": "display_data"
    }
   ],
   "source": [
    "create_brochure(\"HuggingFace\", \"https://huggingface.co\")"
   ]
  },
  {
   "cell_type": "code",
   "execution_count": 35,
   "id": "5a075fa5",
   "metadata": {},
   "outputs": [
    {
     "name": "stdout",
     "output_type": "stream",
     "text": [
      "Found links: {'links': [{'type': 'about_page', 'url': 'https://www.anthropic.com/company'}, {'type': 'careers_page', 'url': 'https://www.anthropic.com/careers'}, {'type': 'research_page', 'url': 'https://www.anthropic.com/research'}, {'type': 'team_page', 'url': 'https://www.anthropic.com/team'}, {'type': 'news_page', 'url': 'https://www.anthropic.com/news'}]}\n"
     ]
    },
    {
     "data": {
      "text/markdown": [
       "```markdown\n",
       "# Anthropic Brochure\n",
       "\n",
       "## About Anthropic\n",
       "At Anthropic, our mission is clear: **to build AI systems that serve humanity's long-term well-being**. We are a Public Benefit Corporation headquartered in San Francisco, dedicated to creating reliable, interpretable, and steerable AI systems. Our pioneering work not only focuses on powerful technologies, but also emphasizes the importance of considering their societal implications through rigorous research and policy-making.\n",
       "\n",
       "## Our Vision\n",
       "We believe AI will have a vast impact on the world. By harnessing cutting-edge research and applying our findings to create tangible products, we aim to ensure that AI serves as a positive force for humanity. Our flagship model, **Claude**, represents our commitment to developing advanced AI tools that are safe, interpretable, and beneficial for all.\n",
       "\n",
       "## Company Culture\n",
       "### Values\n",
       "Our organization thrives on a unique set of values:\n",
       "1. **Act for the Global Good**: We maximize positive outcomes for humanity while being bold in our actions.\n",
       "2. **Hold Light and Shade**: We acknowledge the risks and rewards of AI, striving to protect against the bad while amplifying the good.\n",
       "3. **Be Good to Our Users**: We extend kindness and generosity to everyone influenced by our technology, including customers, policy-makers, and employees.\n",
       "4. **Ignite a Race to the Top on Safety**: We aim to inspire all developers to prioritize safety in AI systems, setting high standards for the industry.\n",
       "5. **Do the Simple Thing That Works**: We embrace practical, effective solutions that have a meaningful impact.\n",
       "6. **Be Helpful, Honest, and Harmless**: Our high-trust culture emphasizes integrity, collaboration, and a shared mission.\n",
       "7. **Put the Mission First**: Our mission guides our decisions and actions, fostering collaboration and trust across teams.\n",
       "\n",
       "## Research and Development\n",
       "Our interdisciplinary team comprises researchers, engineers, policy experts, and operational leaders, all collaborating to push the boundaries of AI safety. Our research spans various modalities, tackling novel areas such as interpretability, human feedback, and societal impact analysis.\n",
       "\n",
       "## Customer Solutions\n",
       "We translate our research into practical tools and applications that benefit various sectors, including:\n",
       "- **AI Agents** for automated tasks\n",
       "- **Coding support** to assist developers\n",
       "- **Customer service solutions** for improved interaction\n",
       "- **Specialized applications** for education and enterprise needs\n",
       "\n",
       "## Career Opportunities\n",
       "### Join Us!\n",
       "At Anthropic, we value a diverse range of experiences and ideas. Our team members come from backgrounds in physics, machine learning, public policy, and business. We are committed to creating a supportive work environment where everyone can thrive. Some of our employee benefits include:\n",
       "- Comprehensive health, dental, and vision insurance\n",
       "- Flexible paid time off and paid parental leave\n",
       "- Retirement plans with competitive matching\n",
       "- Wellness stipends and commuter benefits\n",
       "\n",
       "If you're passionate about AI safety and want to make a real difference, [**join our team**](#careers).\n",
       "\n",
       "## Customer Testimonials\n",
       "> \"Claude has transformed our way of working at North Highland. It has enabled us to complete tasks up to 5x faster!\"  \n",
       "> — Luka Anic, Senior Director at North Highland\n",
       "\n",
       "> \"Leveraging Claude in our workflows has made generating content and insights significantly easier and faster.\"  \n",
       "> — Olga Pirog, Head of AI Transformation at IG Group\n",
       "\n",
       "## Stay Updated\n",
       "For the latest news and developments in AI safety and our product offerings, visit our [**Newsroom**](#news) and follow us on our social media channels.\n",
       "\n",
       "---\n",
       "\n",
       "### Contact Us\n",
       "For inquiries, partnerships, and support, please visit our website at [Anthropic.ai](https://www.anthropic.ai).\n",
       "\n",
       "---\n",
       "\n",
       "**Anthropic**: Crafting the Future of Safe AI.\n",
       "```"
      ],
      "text/plain": [
       "<IPython.core.display.Markdown object>"
      ]
     },
     "metadata": {},
     "output_type": "display_data"
    }
   ],
   "source": [
    "create_brochure(\"Anthropic\", \"https://www.anthropic.com/\")"
   ]
  },
  {
   "cell_type": "code",
   "execution_count": 36,
   "id": "70953a96",
   "metadata": {},
   "outputs": [
    {
     "name": "stdout",
     "output_type": "stream",
     "text": [
      "Found links: {'links': [{'type': 'about_page', 'url': 'https://www.marutisuzuki.com/corporate/about-us'}, {'type': 'about_history', 'url': 'https://www.marutisuzuki.com/corporate/about-us/history'}, {'type': 'about_leadership', 'url': 'https://www.marutisuzuki.com/corporate/about-us/leadership'}, {'type': 'about_strength', 'url': 'https://www.marutisuzuki.com/corporate/about-us/strength'}, {'type': 'about_values', 'url': 'https://www.marutisuzuki.com/corporate/about-us/values'}, {'type': 'about_exports', 'url': 'https://www.marutisuzuki.com/corporate/about-us/exports'}, {'type': 'about_sustainability', 'url': 'https://www.marutisuzuki.com/corporate/about-us/sustainability'}, {'type': 'about_csr', 'url': 'https://www.marutisuzuki.com/corporate/about-us/csr'}, {'type': 'careers_page', 'url': 'https://www.marutisuzuki.com/corporate/careers'}, {'type': 'careers_life', 'url': 'https://www.marutisuzuki.com/corporate/careers/life-at-msil'}, {'type': 'careers_why_work_with_us', 'url': 'https://www.marutisuzuki.com/corporate/careers/why-work-with-us'}, {'type': 'careers_join_us', 'url': 'https://www.marutisuzuki.com/corporate/careers/join-us'}, {'type': 'careers_meet_our_people', 'url': 'https://www.marutisuzuki.com/corporate/careers/meet-our-people'}, {'type': 'media_page', 'url': 'https://www.marutisuzuki.com/corporate/media'}, {'type': 'technology_page', 'url': 'https://www.marutisuzuki.com/corporate/technology'}]}\n"
     ]
    },
    {
     "data": {
      "text/markdown": [
       "# Maruti Suzuki: Driving India Forward\n",
       "\n",
       "## Overview\n",
       "Maruti Suzuki India Limited (MSIL) is the largest passenger vehicle manufacturer in India, recognized for its commitment to quality and reliability. Celebrated for manufacturing a wide array of cars, including hatchbacks, sedans, SUVs, and vans, Maruti Suzuki’s brands include ARENA, NEXA, True Value, and Commercial.\n",
       "\n",
       "## Company Culture\n",
       "At Maruti Suzuki, the work culture is rooted in teamwork, innovation, and continuous learning. The organization fosters an atmosphere that embraces diversity, encourages openness, and values employee contributions, ensuring that every voice is heard. Employees enjoy supportive policies aimed at professional growth and personal development, making Maruti Suzuki not just a workplace, but a vibrant community.\n",
       "\n",
       "### Why Work with Us?\n",
       "- **Career Growth**: We offer extensive training and mentorship programs to help you maximize your potential.\n",
       "- **Employee Welfare**: Benefits like subsidized meals, flexible work hours, and wellness programs ensure a healthy work-life balance.\n",
       "- **Recognition**: Exceptional performance is acknowledged and rewarded, fostering a culture of excellence.\n",
       "\n",
       "## Commitment to Sustainability\n",
       "Maruti Suzuki prioritizes environmental responsibility. The company invests in green technologies, striving to reduce its ecological footprint by developing eco-friendly vehicles and managing resources efficiently. The implementation of best practices in sustainability ensures Maruti Suzuki is not just a leader in manufacturing but also in eco-friendliness.\n",
       "\n",
       "## Corporate Social Responsibility (CSR)\n",
       "Maruti Suzuki is dedicated to uplifting the communities it serves through various initiatives in education, health, and environmental conservation. The firm values corporate citizenship and actively engages in philanthropic efforts to promote societal well-being.\n",
       "\n",
       "## Come Join Us\n",
       "Maruti Suzuki is always on the lookout for diverse talent to join its expanding team. Whether you are a fresh graduate, a seasoned professional, or looking for workmen hiring (ITI), Maruti Suzuki offers many opportunities across various functions and locations.\n",
       "\n",
       "- **Current Openings**: Check out the careers page for fresh engineering graduates, experienced professionals, and apprentices.\n",
       "- **Training Academy**: Our in-house training program equips employees with the skills needed for success in the automotive industry.\n",
       "\n",
       "## Innovation and Technology\n",
       "With a strong focus on R&D, Maruti Suzuki leverages cutting-edge technology to enhance vehicle performance and efficiency. The company is committed to advancements in hybrid, Smart Hybrid, and CNG technology.\n",
       "\n",
       "## Contact Us\n",
       "For inquiries or to learn more about our offerings, please visit our website or reach us at:\n",
       "- **Phone**: 1800 102 1800\n",
       "- **Email**: contact@maruti.co.in\n",
       "\n",
       "Join Maruti Suzuki in shaping the future of mobility in India. Drive change, drive innovation, drive with Maruti Suzuki!"
      ],
      "text/plain": [
       "<IPython.core.display.Markdown object>"
      ]
     },
     "metadata": {},
     "output_type": "display_data"
    }
   ],
   "source": [
    "create_brochure(\"Maruti Suzuki\", \"https://www.marutisuzuki.com/\")"
   ]
  }
 ],
 "metadata": {
  "kernelspec": {
   "display_name": ".venv-llm-practical",
   "language": "python",
   "name": ".venv-llm-practical"
  },
  "language_info": {
   "codemirror_mode": {
    "name": "ipython",
    "version": 3
   },
   "file_extension": ".py",
   "mimetype": "text/x-python",
   "name": "python",
   "nbconvert_exporter": "python",
   "pygments_lexer": "ipython3",
   "version": "3.13.1"
  }
 },
 "nbformat": 4,
 "nbformat_minor": 5
}
