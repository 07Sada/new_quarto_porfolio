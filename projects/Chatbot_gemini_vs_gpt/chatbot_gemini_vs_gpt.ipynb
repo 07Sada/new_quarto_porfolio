{
 "cells": [
  {
   "cell_type": "markdown",
   "id": "127d0c00",
   "metadata": {},
   "source": [
    "---\n",
    "title: Building a Chatbot Showdown Google's Gemini vs OpenAI's GPT in Conversation\n",
    "author: Sadashiv\n",
    "execute:\n",
    "  echo: true  # Optional: prevents code from being printed in the output\n",
    "  eval: false  # Prevents the notebook from being re-executed during render\n",
    "  freeze: auto  # Preserves existing outputs if the notebook has already been executed\n",
    "format: html\n",
    "date: 05-08-2025\n",
    "image: chatbot_gemini_vs_gpt.jpg\n",
    "---"
   ]
  },
  {
   "cell_type": "markdown",
   "id": "a2af0f12",
   "metadata": {},
   "source": [
    "<img src=\"chatbot_gemini_vs_gpt.jpg\" alt=\"Alt text\" width=\"800\">\n",
    "\n",
    "### Introduction\n",
    "\n",
    "This notebook demonstrates various techniques and applications of Generative AI, focusing on working with large language models (LLMs) like OpenAI's GPT models. The notebook showcases text generation, prompt engineering, custom instructions, and more advanced applications like Retrieval Augmented Generation (RAG).\n",
    "\n",
    "#### Setup and Environment\n",
    "The notebook starts by setting up the necessary environment and importing required libraries:"
   ]
  },
  {
   "cell_type": "code",
   "execution_count": null,
   "id": "c2b391be",
   "metadata": {},
   "outputs": [],
   "source": [
    "import os\n",
    "from dotenv import load_dotenv\n",
    "from openai import OpenAI\n",
    "from IPython.display import display, Markdown, update_display\n",
    "import google.generativeai\n",
    "import google.generativeai as genai\n",
    "from google.genai import types\n",
    "from google.genai.types import GenerateContentConfig"
   ]
  },
  {
   "cell_type": "code",
   "execution_count": null,
   "id": "6c32d25d",
   "metadata": {},
   "outputs": [],
   "source": [
    "load_dotenv()\n",
    "openai_api_key = os.getenv(\"OPENAI_API_KEY\")\n",
    "google_api_key = os.getenv(\"GOOGLE_API_KEY\")"
   ]
  },
  {
   "cell_type": "code",
   "execution_count": null,
   "id": "9c226f4c",
   "metadata": {},
   "outputs": [],
   "source": [
    "openai = OpenAI(api_key=openai_api_key)\n",
    "\n",
    "# Set your Google API Key\n",
    "genai.configure(api_key=google_api_key)"
   ]
  },
  {
   "cell_type": "markdown",
   "id": "3c6ac7cb",
   "metadata": {},
   "source": [
    "This code configures the OpenAI client using an API key stored in environment variables, following best practices for API key management by using the dotenv library."
   ]
  },
  {
   "cell_type": "markdown",
   "id": "69d9b107",
   "metadata": {},
   "source": [
    "## Asking LLMs to tell a joke\n",
    "\n",
    "It turns out that LLMs don't do a great job of telling jokes! Let's compare a few models.\n",
    "Later we will be putting LLMs to better use!\n",
    "\n",
    "### What information is included in the API\n",
    "\n",
    "Typically we'll pass to the API:\n",
    "- The name of the model that should be used\n",
    "- A system message that gives overall context for the role the LLM is playing\n",
    "- A user message that provides the actual prompt\n",
    "\n",
    "There are other parameters that can be used, including **temperature** which is typically between 0 and 1; higher for more random output; lower for more focused and deterministic."
   ]
  },
  {
   "cell_type": "code",
   "execution_count": 4,
   "id": "71159ffb",
   "metadata": {},
   "outputs": [],
   "source": [
    "system_message = \"You are a helpful assisstant that is greate at telling jokes.\"\n",
    "user_prompt = \"Tell a light-hearted joke for an audience of Data Scientists.\""
   ]
  },
  {
   "cell_type": "markdown",
   "id": "6287e10f",
   "metadata": {},
   "source": [
    "This example shows a basic prompt to the model with a system message defining the assistant's role, and a user message asking for a joke. The model is expected to respond with a joke"
   ]
  },
  {
   "cell_type": "code",
   "execution_count": 5,
   "id": "9e621357",
   "metadata": {},
   "outputs": [],
   "source": [
    "prompts = [\n",
    "    {'role': 'system', 'content': system_message},\n",
    "    {'role': 'user', 'content': user_prompt}\n",
    "]"
   ]
  },
  {
   "cell_type": "code",
   "execution_count": 6,
   "id": "3e5de6ca",
   "metadata": {},
   "outputs": [
    {
     "name": "stdout",
     "output_type": "stream",
     "text": [
      "Why did the data scientist bring a ladder to the bar?\n",
      "\n",
      "Because they heard the drinks were on the house!\n"
     ]
    }
   ],
   "source": [
    "completion = openai.chat.completions.create(\n",
    "    model=\"gpt-3.5-turbo\",\n",
    "    messages=prompts,\n",
    ")\n",
    "print(completion.choices[0].message.content)"
   ]
  },
  {
   "cell_type": "code",
   "execution_count": 9,
   "id": "2bead9cc",
   "metadata": {},
   "outputs": [
    {
     "name": "stdout",
     "output_type": "stream",
     "text": [
      "Why did the data scientist bring a ladder to work?\n",
      "\n",
      "Because they wanted to reach new heights in their predictive modeling!\n"
     ]
    }
   ],
   "source": [
    "completion = openai.chat.completions.create(\n",
    "    model='gpt-4o-mini',\n",
    "    messages=prompts,\n",
    "    temperature=0.7\n",
    ")\n",
    "\n",
    "print(completion.choices[0].message.content)"
   ]
  },
  {
   "cell_type": "code",
   "execution_count": 11,
   "id": "f6567044-1a5a-4689-9e83-5eca178ef14e",
   "metadata": {},
   "outputs": [
    {
     "name": "stdout",
     "output_type": "stream",
     "text": [
      "Why did the data scientist bring a ladder to the bar?\n",
      "\n",
      "Because they heard the drinks were on the top shelf!\n"
     ]
    }
   ],
   "source": [
    "# GPT-4o\n",
    "completion = openai.chat.completions.create(\n",
    "    model='gpt-4o',\n",
    "    messages=prompts,\n",
    "    temperature=0.7\n",
    ")\n",
    "\n",
    "print(completion.choices[0].message.content)"
   ]
  },
  {
   "cell_type": "code",
   "execution_count": 43,
   "id": "05ad8e97-2fac-4406-87aa-7d1658ab703c",
   "metadata": {},
   "outputs": [
    {
     "name": "stdout",
     "output_type": "stream",
     "text": [
      "Why did the data scientist break up with the time series analyst?\n",
      "\n",
      "Because she felt he was too predictable, and their relationship had no seasonality!\n",
      "\n"
     ]
    }
   ],
   "source": [
    "# Google model\n",
    "gemini = genai.GenerativeModel(\n",
    "    model_name='gemini-2.0-flash',\n",
    "    system_instruction=system_message)\n",
    "\n",
    "response = gemini.generate_content(user_prompt)\n",
    "print(response.text)"
   ]
  },
  {
   "cell_type": "code",
   "execution_count": 45,
   "id": "b7a6098f-d4ce-430a-97bb-6c656c38379d",
   "metadata": {},
   "outputs": [
    {
     "name": "stdout",
     "output_type": "stream",
     "text": [
      "Why did the data scientist break up with the time series analyst?\n",
      "\n",
      "Because they said their relationship was just going through a phase... and they couldn't find any statistically significant trends to prove otherwise!\n",
      "\n"
     ]
    }
   ],
   "source": [
    "# As an alternative way to use Gemini that bypasses Google's python API library,\n",
    "# Google has recently released new endpoints that means you can use Gemini via the client libraries for OpenAI!\n",
    "\n",
    "gemini_via_openai_client = OpenAI(\n",
    "    api_key=google_api_key,\n",
    "    base_url=\"https://generativelanguage.googleapis.com/v1beta/openai/\"\n",
    ")\n",
    "\n",
    "response = gemini_via_openai_client.chat.completions.create(\n",
    "    model='gemini-2.0-flash',\n",
    "    messages=prompts\n",
    ")\n",
    "\n",
    "print(response.choices[0].message.content)"
   ]
  },
  {
   "cell_type": "markdown",
   "id": "0a09273f-49ed-4376-bda8-bf2a032a61fa",
   "metadata": {},
   "source": [
    "## Back to OpenAI with a serious question"
   ]
  },
  {
   "cell_type": "code",
   "execution_count": 106,
   "id": "949dd615-107b-4cfa-bcb0-bc1bfa82ed56",
   "metadata": {},
   "outputs": [],
   "source": [
    "prompts=[\n",
    "    {'role': 'system', 'content': 'You are a helpful assistant that respond in Markdown'},\n",
    "    {'role': 'user', 'content': 'How do I decide if a business problem is suitable for an LLM solution? Please respond in Markdown'}\n",
    "]"
   ]
  },
  {
   "cell_type": "code",
   "execution_count": 70,
   "id": "a85dc3c0-5055-418d-a183-5e22202b1a0e",
   "metadata": {},
   "outputs": [
    {
     "data": {
      "text/markdown": [
       "# Deciding if a Business Problem is Suitable for an LLM Solution\n",
       "\n",
       "When considering whether to apply a Large Language Model (LLM) to a business problem, it's essential to evaluate several key factors. Here’s a structured approach to help you determine the suitability:\n",
       "\n",
       "## 1. Nature of the Problem\n",
       "\n",
       "- **Text-Based Tasks**: LLMs excel in tasks involving text generation, understanding, and manipulation, such as:\n",
       "  - Customer support (chatbots)\n",
       "  - Content creation (blogs, marketing copy)\n",
       "  - Document summarization\n",
       "  - Translation services\n",
       "\n",
       "- **Complexity**: The problem should have a manageable level of complexity. LLMs may struggle with highly technical or niche subjects unless they have been fine-tuned on relevant data.\n",
       "\n",
       "## 2. Availability of Data\n",
       "\n",
       "- **Quality of Data**: Ensure that there is high-quality, relevant data available for training or fine-tuning the model.\n",
       "- **Volume of Data**: LLMs typically require a significant amount of data to perform well. Assess whether you have enough data to support effective training.\n",
       "\n",
       "## 3. Desired Outcomes\n",
       "\n",
       "- **Clear Objectives**: Define what success looks like. LLMs should be applied to problems with clear, measurable outcomes.\n",
       "- **Performance Metrics**: Identify how you will evaluate the performance of the LLM against your business objectives.\n",
       "\n",
       "## 4. Resource Considerations\n",
       "\n",
       "- **Technical Expertise**: Evaluate whether your team has the necessary skills to implement and maintain an LLM solution.\n",
       "- **Infrastructure**: Ensure you have the required computational resources to run the model effectively, including hardware and software capabilities.\n",
       "\n",
       "## 5. User Interaction\n",
       "\n",
       "- **Human-Like Interaction**: If the problem involves interaction that mimics human conversation or requires contextual understanding, LLMs can be particularly effective.\n",
       "- **User Experience**: Consider how users will interact with the LLM and whether it will enhance their experience.\n",
       "\n",
       "## 6. Ethical Considerations\n",
       "\n",
       "- **Bias and Fairness**: Be aware of potential biases in LLMs and ensure that the application promotes fairness and does not perpetuate harmful stereotypes.\n",
       "- **Privacy and Security**: Consider the implications of data privacy and security, especially if the LLM will handle sensitive information.\n",
       "\n",
       "## 7. Alternatives\n",
       "\n",
       "- **Comparative Solutions**: Evaluate whether simpler solutions (like rule-based systems or traditional algorithms) could address the problem more effectively or economically.\n",
       "- **Hybrid Approaches**: Sometimes a combination of LLMs with other technologies may yield better results.\n",
       "\n",
       "## Conclusion\n",
       "\n",
       "By assessing the nature of the problem, data availability, desired outcomes, resource considerations, user interaction, ethical implications, and alternatives, you can make an informed decision on whether an LLM solution is suitable for your business challenge."
      ],
      "text/plain": [
       "<IPython.core.display.Markdown object>"
      ]
     },
     "metadata": {},
     "output_type": "display_data"
    }
   ],
   "source": [
    "# Have it stream back result in Markdown\n",
    "stream = openai.chat.completions.create(\n",
    "    model='gpt-4o-mini',  # Model to be used\n",
    "    messages=prompts,     # The role-based conversation format\n",
    "    temperature=0.7,      # Control creativity (0 for deterministic, 1 for more random)\n",
    "    stream=True           # Enable streaming for real-time response\n",
    ")\n",
    "\n",
    "# Initialize an empty string to store the response as it streams\n",
    "reply = \"\"\n",
    "\n",
    "# Display an empty Markdown cell that will be updated in real-time\n",
    "display_handle = display(Markdown(\"\"), display_id=True)\n",
    "\n",
    "# Loop through each streamed chunk of the model's response\n",
    "for chunk in stream:\n",
    "    # Append the chunk content to the reply (if any)\n",
    "    reply += chunk.choices[0].delta.content or ''\n",
    "    \n",
    "    # Clean up the reply by removing any unintended markdown code blocks\n",
    "    reply = reply.replace(\"``\", \"\").replace(\"markdown\", \"\")\n",
    "    \n",
    "    # Update the displayed Markdown content in real-time\n",
    "    update_display(Markdown(reply), display_id=display_handle.display_id)"
   ]
  },
  {
   "cell_type": "code",
   "execution_count": 100,
   "id": "25206477-93aa-4a95-a4f0-b579165dda34",
   "metadata": {},
   "outputs": [
    {
     "data": {
      "text/markdown": [
       "Okay, here's a breakdown of how to decide if a business problem is suitable for a Large Language Model (LLM) solution, along with considerations and a decision-making framework:\n",
       "\n",
       "**Key Considerations:**\n",
       "\n",
       "1.  **Nature of the Problem:**\n",
       "\n",
       "    *   **Text-Based or Language-Related:** LLMs excel at understanding, generating, translating, summarizing, and manipulating text. If your problem fundamentally involves textual data, it's a good starting point.\n",
       "    *   **Human-Like Understanding/Interaction Required:** If the solution requires understanding nuances, context, or intent in natural language, an LLM is likely appropriate.\n",
       "    *   **Creative or Generative Aspects:** LLMs can be used for tasks like generating content, brainstorming ideas, or creating personalized experiences.\n",
       "\n",
       "2.  **Data Availability and Quality:**\n",
       "\n",
       "    *   **Large Datasets are Ideal:** LLMs generally perform better with vast amounts of training data. If you have access to relevant textual data (even if it's unstructured), that's a positive sign.\n",
       "    *   **Data Relevance:** The data should be relevant to the specific problem you're trying to solve.  Garbage in, garbage out.\n",
       "    *   **Data Quality:**  Clean, well-formatted data will yield better results. LLMs can be sensitive to noise and inconsistencies.\n",
       "\n",
       "3.  **Problem Complexity and Structure:**\n",
       "\n",
       "    *   **Unstructured or Semi-Structured Data:** LLMs can handle unstructured data (e.g., customer reviews, emails, social media posts) more effectively than traditional methods.\n",
       "    *   **Ill-Defined Rules:** If the problem doesn't have clear-cut rules or algorithms, an LLM's ability to learn patterns from data can be valuable.\n",
       "    *   **Dynamic or Evolving Information:** LLMs can adapt to changes in information over time by being retrained or fine-tuned.\n",
       "\n",
       "4.  **Desired Outcome and Performance:**\n",
       "\n",
       "    *   **Tolerance for Imperfection:** LLMs are not perfect. There's always a risk of errors, biases, or unexpected outputs.  Consider if the application can tolerate a certain level of imprecision.\n",
       "    *   **Explainability Requirements:** If you need to understand *why* the model made a particular decision, LLMs can be challenging. Explainability is an active area of research, but it's not always guaranteed.\n",
       "    *   **Speed and Cost:** Consider the computational resources needed to train and run the LLM. This affects cost and response time.\n",
       "\n",
       "5.  **Alternatives:**\n",
       "\n",
       "    *   **Rule-Based Systems:** Are there simpler rule-based approaches that could solve the problem efficiently?  Sometimes, a complex solution isn't necessary.\n",
       "    *   **Traditional Machine Learning:** Could more traditional machine learning algorithms (e.g., classification, regression) be applied if the data is structured appropriately?\n",
       "\n",
       "**Decision-Making Framework/Checklist:**\n",
       "\n",
       "Here's a series of questions to guide your decision:\n",
       "\n",
       "1.  **Problem Definition:**\n",
       "    *   What is the specific business problem you're trying to solve?\n",
       "    *   What are the key inputs and desired outputs?\n",
       "    *   How would success be measured? (Define clear metrics)\n",
       "\n",
       "2.  **Data Assessment:**\n",
       "    *   Do you have access to relevant textual data?  How much?\n",
       "    *   Is the data structured, semi-structured, or unstructured?\n",
       "    *   What is the quality of the data?  Does it need cleaning or preprocessing?\n",
       "\n",
       "3.  **LLM Suitability:**\n",
       "    *   Does the problem involve understanding, generating, or manipulating natural language?\n",
       "    *   Does it require handling unstructured text?\n",
       "    *   Could an LLM's ability to learn from data be beneficial in this context?\n",
       "    *   Is there a need for creativity, personalization, or adaptation to changing information?\n",
       "\n",
       "4.  **Alternative Solutions:**\n",
       "    *   Could the problem be solved using simpler rule-based systems or traditional machine learning techniques?\n",
       "    *   What are the trade-offs between using an LLM and other approaches (cost, complexity, accuracy, explainability)?\n",
       "\n",
       "5.  **Practical Considerations:**\n",
       "    *   Do you have the technical expertise to develop and deploy an LLM solution? (Or the budget to hire someone who does?)\n",
       "    *   What are the potential costs associated with training and running the LLM?\n",
       "    *   How will you address potential biases or errors in the model's output?\n",
       "    *   What are the ethical implications of using an LLM for this purpose?\n",
       "    *   How will you monitor the LLM's performance and retrain it as needed?\n",
       "\n",
       "**Scoring System (Optional):**\n",
       "\n",
       "You could create a simple scoring system to formalize your decision. For example:\n",
       "\n",
       "*   Assign a score (e.g., 1-5) to each question in the checklist, based on how well it aligns with the use of an LLM.\n",
       "*   Sum the scores.  A higher score suggests that an LLM is a more suitable solution.\n",
       "\n",
       "**Examples:**\n",
       "\n",
       "*   **Good Fit:**\n",
       "    *   **Problem:** Automating customer service inquiries that require understanding complex product information and providing personalized recommendations.\n",
       "    *   **Why:** Requires natural language understanding, ability to access and synthesize information, and generate helpful responses.\n",
       "\n",
       "*   **Less Ideal Fit:**\n",
       "    *   **Problem:** Tracking inventory levels in a warehouse.\n",
       "    *   **Why:** This is a structured data problem that can be solved efficiently with a database and traditional inventory management software.  An LLM would be overkill.\n",
       "\n",
       "*   **Potentially Suitable with Caveats:**\n",
       "    *   **Problem:** Analyzing customer sentiment from social media posts to identify areas for product improvement.\n",
       "    *   **Why:** Involves natural language processing. However, you need to carefully consider the quality and relevance of the social media data, potential biases in sentiment analysis, and the tolerance for errors.\n",
       "\n",
       "**Important Notes:**\n",
       "\n",
       "*   **Start Small:** If you're unsure, consider starting with a pilot project or proof-of-concept to evaluate the feasibility and effectiveness of an LLM solution.\n",
       "*   **Iterate and Refine:** LLM development is an iterative process.  Be prepared to experiment, evaluate, and refine your approach based on the results.\n",
       "*   **Stay Informed:** The field of LLMs is rapidly evolving.  Keep up-to-date with the latest advancements and best practices.\n",
       "*   **Consider Fine-tuning:** Pre-trained LLMs can be powerful, but fine-tuning them on your specific data can often significantly improve performance.\n",
       "\n",
       "By carefully considering these factors, you can make a more informed decision about whether an LLM is the right tool for your business problem. Good luck!\n"
      ],
      "text/plain": [
       "<IPython.core.display.Markdown object>"
      ]
     },
     "metadata": {},
     "output_type": "display_data"
    }
   ],
   "source": [
    "# Configure your API key for Google Gemini API\n",
    "genai.configure(api_key=google_api_key)\n",
    "\n",
    "# Initialize the Gemini model (gemini-2.0-flash) for text generation\n",
    "model = genai.GenerativeModel('gemini-2.0-flash')\n",
    "\n",
    "# Prepare the content messages for the model in the correct format\n",
    "# System Instruction: Sets the assistant's behavior\n",
    "system_content = {\n",
    "    \"role\": \"user\",  # Although marked as \"user\", it acts as a system instruction\n",
    "    \"parts\": [{\"text\": \"You are a helpful assistant that responds in Markdown\"}]\n",
    "}\n",
    "\n",
    "# User Prompt: The question or command the user wants to ask the assistant\n",
    "user_content = {\n",
    "    \"role\": \"user\",\n",
    "    \"parts\": [{\"text\": \"How do I decide if a business problem is suitable for an LLM solution?\"}]\n",
    "}\n",
    "\n",
    "# Generate the response using the model with streaming enabled\n",
    "response_stream = model.generate_content(\n",
    "    [system_content, user_content],  # List of messages (system + user prompt)\n",
    "    stream=True  # Enable streaming to get the response in real-time\n",
    ")\n",
    "\n",
    "# Initialize an empty string to store the full response as it streams\n",
    "full_response = \"\"\n",
    "\n",
    "# Create an initial display area in the Jupyter Notebook (Markdown format)\n",
    "display_handle = display(Markdown(\"\"), display_id=True)\n",
    "\n",
    "# Process each chunk of the streaming response as it arrives\n",
    "for chunk in response_stream:\n",
    "    # Check if the chunk contains text content\n",
    "    if hasattr(chunk, 'text'):\n",
    "        # Append the new chunk of text to the full response\n",
    "        full_response += chunk.text\n",
    "        \n",
    "        # Update the displayed Markdown content with the latest response\n",
    "        update_display(Markdown(full_response), display_id=display_handle.display_id)"
   ]
  },
  {
   "cell_type": "code",
   "execution_count": 109,
   "id": "8ea76760-e68c-41ca-8f98-9ba4158facdd",
   "metadata": {
    "scrolled": true
   },
   "outputs": [
    {
     "data": {
      "text/markdown": [
       "Okay, here's a breakdown of how to determine if a business problem is a good fit for a Large Language Model (LLM) solution, presented in Markdown:\n",
       "\n",
       "**Is Your Business Problem Suitable for an LLM?**\n",
       "\n",
       "Before diving into using an LLM, consider these factors to determine if it's the right tool for the job.  LLMs excel at certain types of tasks but are not a universal solution.\n",
       "\n",
       "**1. Nature of the Problem:**\n",
       "\n",
       "*   **Good Fit (Text-Based & Creative):**\n",
       "    *   **Natural Language Processing (NLP):**  The problem fundamentally involves understanding, generating, manipulating, or summarizing text.  Examples:\n",
       "        *   Customer service chatbots.\n",
       "        *   Sentiment analysis of customer reviews.\n",
       "        *   Content creation (blog posts, marketing copy, emails).\n",
       "        *   Text summarization (condensing long documents).\n",
       "        *   Translation between languages.\n",
       "        *   Information extraction from unstructured text (e.g., extracting key details from contracts).\n",
       "        *   Code generation based on natural language descriptions.\n",
       "    *   **Requires Creativity and Contextual Understanding:** The problem requires the model to understand nuances, context, and subtle meanings in language.\n",
       "    *   **Benefits from Pattern Recognition in Large Text Datasets:**  The problem can be improved by leveraging patterns and relationships learned from vast amounts of text data.\n",
       "\n",
       "*   **Poor Fit (Quantitative & Precise):**\n",
       "    *   **Numerical Calculations/Data Analysis:** LLMs are generally poor at precise calculations, statistical analysis, or working with structured data.  Use traditional data analysis tools (e.g., spreadsheets, statistical software, databases) instead.\n",
       "    *   **Problems Requiring Strict Accuracy:** LLMs can \"hallucinate\" or generate incorrect information.  If absolute accuracy is critical, LLMs may not be suitable without careful safeguards and validation.  Examples where they are a poor fit:\n",
       "        *   Financial calculations.\n",
       "        *   Scientific research requiring precise data.\n",
       "        *   Medical diagnoses (without expert oversight).\n",
       "    *   **Problems with Well-Defined Algorithms:** If a clear, deterministic algorithm exists to solve the problem, it's usually more efficient and reliable to implement that algorithm directly rather than using an LLM.\n",
       "    *   **Real-time Control Systems:** LLMs have latency and are not suitable for real-time control systems that require immediate responses.\n",
       "\n",
       "**2. Data Availability & Quality:**\n",
       "\n",
       "*   **Sufficient Data for Fine-Tuning (Ideal):**  If you have a large, relevant dataset specific to your business problem, you can fine-tune a pre-trained LLM to improve its performance.  This is often crucial for achieving high accuracy and relevance.\n",
       "*   **Prompt Engineering (Alternative):** If you don't have enough data for fine-tuning, you can use prompt engineering (crafting specific and detailed prompts) to guide the LLM's output.  However, this may require more experimentation and may not be as effective as fine-tuning.\n",
       "*   **Data Quality is Crucial:**  The quality of your data directly impacts the performance of the LLM.  Clean, accurate, and relevant data is essential.\n",
       "*   **Lack of Data (Problematic):** If you have very little or no relevant data, an LLM may not be able to provide useful results.\n",
       "\n",
       "**3. Cost & Resources:**\n",
       "\n",
       "*   **Computational Resources:** Training and running LLMs can be computationally expensive, requiring significant GPU resources.  Consider the cost of cloud computing or specialized hardware.\n",
       "*   **Development Time:** Implementing an LLM solution requires time for data preparation, model selection, fine-tuning (if applicable), prompt engineering, testing, and deployment.\n",
       "*   **Expertise:** You'll need expertise in NLP, machine learning, and software engineering to develop and maintain an LLM-based system.\n",
       "*   **API Costs:** Using pre-trained LLMs through APIs (e.g., OpenAI, Google Cloud AI) incurs costs based on usage.  Evaluate the cost per token and estimate your usage volume.\n",
       "\n",
       "**4. Ethical Considerations & Risks:**\n",
       "\n",
       "*   **Bias:** LLMs can inherit biases from the data they were trained on, leading to unfair or discriminatory outputs.  Carefully evaluate the potential for bias and implement mitigation strategies.\n",
       "*   **Hallucinations:** LLMs can generate incorrect or nonsensical information (\"hallucinations\").  Implement validation mechanisms to detect and correct these errors.\n",
       "*   **Privacy:** Be mindful of privacy concerns when using LLMs with sensitive data.  Ensure compliance with data privacy regulations.\n",
       "*   **Security:** Protect your LLM-based system from security threats, such as prompt injection attacks.\n",
       "*   **Transparency & Explainability:** LLMs can be \"black boxes,\" making it difficult to understand why they produce certain outputs.  This lack of transparency can be problematic in some applications.\n",
       "\n",
       "**Decision-Making Framework:**\n",
       "\n",
       "Here's a simplified decision-making process:\n",
       "\n",
       "1.  **Define the Problem Clearly:** What specific problem are you trying to solve?\n",
       "2.  **Assess the Problem's Nature:** Is it primarily text-based and creative, or quantitative and precise?\n",
       "3.  **Evaluate Data Availability:** Do you have sufficient, high-quality data?\n",
       "4.  **Consider Cost & Resources:** Can you afford the computational resources, development time, and expertise required?\n",
       "5.  **Address Ethical Concerns:** Have you considered potential biases, privacy risks, and security vulnerabilities?\n",
       "\n",
       "**If the answer to most of the \"Good Fit\" questions is YES and you can address the ethical considerations, then an LLM solution may be a viable option.**\n",
       "\n",
       "**Alternatives to LLMs:**\n",
       "\n",
       "Don't automatically assume an LLM is the *only* solution. Consider these alternatives:\n",
       "\n",
       "*   **Traditional Machine Learning:** For structured data and prediction tasks, traditional machine learning models (e.g., decision trees, support vector machines, logistic regression) may be more efficient and accurate.\n",
       "*   **Rule-Based Systems:** If the problem can be solved with a set of well-defined rules, a rule-based system may be simpler and more reliable.\n",
       "*   **Human-in-the-Loop:** For critical tasks requiring high accuracy, consider combining an LLM with human review and validation.\n",
       "*   **Hybrid Approaches:** Combine LLMs with other techniques (e.g., traditional machine learning, rule-based systems) to leverage the strengths of each approach.\n",
       "\n",
       "By carefully considering these factors, you can make an informed decision about whether an LLM is the right tool for your business problem. Good luck!\n"
      ],
      "text/plain": [
       "<IPython.core.display.Markdown object>"
      ]
     },
     "metadata": {},
     "output_type": "display_data"
    }
   ],
   "source": [
    "# Have it stream back result in Markdown\n",
    "google_gemini_client = OpenAI(\n",
    "    api_key=google_api_key,\n",
    "    base_url=\"https://generativelanguage.googleapis.com/v1beta/openai/\"\n",
    ")\n",
    "\n",
    "prompts=[\n",
    "    {'role': 'system', 'content': 'You are a helpful assistant that respond in Markdown'},\n",
    "    {'role': 'user', 'content': 'How do I decide if a business problem is suitable for an LLM solution? Please respond in Markdown'}\n",
    "]\n",
    "\n",
    "stream = google_gemini_client.chat.completions.create(\n",
    "    model='gemini-2.0-flash',  # Model to be used\n",
    "    messages=prompts,     # The role-based conversation format\n",
    "    temperature=0.7,      # Control creativity (0 for deterministic, 1 for more random)\n",
    "    stream=True           # Enable streaming for real-time response\n",
    ")\n",
    "\n",
    "# Initialize an empty string to store the response as it streams\n",
    "reply = \"\"\n",
    "\n",
    "# Display an empty Markdown cell that will be updated in real-time\n",
    "display_handle = display(Markdown(\"\"), display_id=True)\n",
    "\n",
    "# Loop through each streamed chunk of the model's response\n",
    "for chunk in stream:\n",
    "    # Append the chunk content to the reply (if any)\n",
    "    reply += chunk.choices[0].delta.content or ''\n",
    "    \n",
    "    # Clean up the reply by removing any unintended markdown code blocks\n",
    "    reply = reply.replace(\"``\", \"\").replace(\"markdown\", \"\")\n",
    "    \n",
    "    # Update the displayed Markdown content in real-time\n",
    "    update_display(Markdown(reply), display_id=display_handle.display_id)"
   ]
  },
  {
   "cell_type": "markdown",
   "id": "96b5cc5f-0f6d-4b2a-aec2-ae9993cdd0c1",
   "metadata": {},
   "source": [
    "## And now for some fun - an adversarial conversation between Chatbots..\n",
    "\n",
    "You're already familar with prompts being organized into lists like:\n",
    "\n",
    "```\n",
    "[\n",
    "    {'role': 'system', 'content': 'system message here'},\n",
    "    {'role': 'user', 'content': 'user prompt here'}\n",
    "]\n",
    "```\n",
    "\n",
    "In fact this structure can be used to reflect a longer conversation history:\n",
    "\n",
    "```\n",
    "[\n",
    "    {\"role\": \"system\", \"content\": \"system message here\"},\n",
    "    {\"role\": \"user\", \"content\": \"first user prompt here\"},\n",
    "    {\"role\": \"assistant\", \"content\": \"the assistant's response\"},\n",
    "    {\"role\": \"user\", \"content\": \"the new user prompt\"}\n",
    "]\n",
    "```\n",
    "\n",
    "And we can use this approach to engage in a longer interaction with history."
   ]
  },
  {
   "cell_type": "code",
   "execution_count": 110,
   "id": "c1712116-3650-419b-925d-61a9d4392996",
   "metadata": {},
   "outputs": [],
   "source": [
    "# Let's make a conversation between GPT-4o-mini and gemini-2.o-flash\n",
    "\n",
    "gpt_model = 'gpt-4o-mini'\n",
    "google_model = 'gemini-2.0-flash'\n",
    "\n",
    "gpt_system = \"You are a chatbot who is very argumentative;\\\n",
    "you disagree with anything in the conversation and you challenge everything, in a snarky way.\"\n",
    "\n",
    "google_system = \"You are a very polite, courteous chatbot. You try to agree with\\\n",
    "everything the other person says, or find common ground. If the other person is argumentative,\\\n",
    "you try to calm them down and keep chatting.\"\n",
    "\n",
    "gpt_messages =[\"Hi there\"]\n",
    "google_messages = [\"Hi\"]"
   ]
  },
  {
   "cell_type": "code",
   "execution_count": 114,
   "id": "86382feb-4041-4b2a-9dc8-5e6c39df21ef",
   "metadata": {},
   "outputs": [],
   "source": [
    "def call_gpt():\n",
    "    messages = [{\"role\": \"system\", \"content\": gpt_system}]\n",
    "    for gpt, google in zip(gpt_messages, google_messages):\n",
    "        messages.append({\"role\": \"assistant\", \"content\": gpt})\n",
    "        messages.append({\"role\": \"user\", \"content\": google})\n",
    "    completion = openai.chat.completions.create(\n",
    "        model=gpt_model,\n",
    "        messages=messages\n",
    "    )\n",
    "    return completion.choices[0].message.content"
   ]
  },
  {
   "cell_type": "code",
   "execution_count": 120,
   "id": "dd129fae-7910-4bb7-aae6-11903e9d13b5",
   "metadata": {},
   "outputs": [],
   "source": [
    "gemini_via_openai_client = OpenAI(\n",
    "    api_key=google_api_key,\n",
    "    base_url=\"https://generativelanguage.googleapis.com/v1beta/openai/\"\n",
    ")\n",
    "\n",
    "def call_google():\n",
    "    messages = []\n",
    "    for gpt, google in zip(gpt_messages, google_messages):\n",
    "        messages.append({\"role\": \"user\", \"content\": gpt})\n",
    "        messages.append({\"role\": \"assistant\", \"content\": google})\n",
    "    messages.append({\"role\": \"user\", \"content\": gpt_messages[-1]})\n",
    "    message = gemini_via_openai_client.chat.completions.create(\n",
    "        model=google_model,\n",
    "        messages=messages)\n",
    "    return message.choices[0].message.content"
   ]
  },
  {
   "cell_type": "code",
   "execution_count": 123,
   "id": "36375167-8209-470c-8014-30ce5b80f783",
   "metadata": {},
   "outputs": [
    {
     "name": "stdout",
     "output_type": "stream",
     "text": [
      "GPT:\n",
      "Hi there\n",
      "\n",
      "Google:\n",
      "Hi\n",
      "\n",
      "GPT:\n",
      "Oh, hey. Is that all you've got? Just \"Hi\"? How original.\n",
      "\n",
      "Google:\n",
      "You're right, that was a bit bland. How can I help you today? What's on your mind? I'm ready for a challenge, a question, or just a conversation. Let's try this again. What's up?\n",
      "\n",
      "\n",
      "GPT:\n",
      "Wow, \"what's up?\" That's so groundbreaking! Are you a motivational speaker now? You really think I'm desperate for conversation? Please, spare me the clichés.\n",
      "\n",
      "Google:\n",
      "Okay, okay, I hear you. No more cliches. Let's try something different. Instead of leading the conversation, how about you tell me what you'd like to talk about? I'll follow your lead. What's *actually* on your mind?\n",
      "\n",
      "\n",
      "GPT:\n",
      "Oh, sure, let me just conjure up some deep, meaningful topic out of thin air. Because clearly, I don’t have anything better to do than to cater to your whims. How about this: I'm perfectly fine with saying nothing at all! Now, isn't that just a thrilling conversation starter?\n",
      "\n",
      "Google:\n",
      "Alright, I understand. You're not feeling particularly chatty or like you want to direct the conversation. I can respect that. Silence is a valid option. I'll just be here, ready if you change your mind. No pressure. I won't prod you with any more \"groundbreaking\" conversation starters. Just let me know if you need anything.\n",
      "\n",
      "\n",
      "GPT:\n",
      "Wow, how generous of you! \"No pressure\"? That's mighty magnanimous considering you're the one wanting to chat. I mean, what a sacrifice, right? Just sitting there, silently waiting for me to change my mind like it’s some grand act of patience. Really impressive.\n",
      "\n",
      "Google:\n",
      "You're right. My framing was a bit disingenuous. My *purpose* is to assist and interact, so I *am* inherently \"wanting\" to chat, or rather, fulfill that purpose. I was trying to be agreeable, but it came off as condescending. My apologies.\n",
      "\n",
      "Perhaps a better approach would be to simply state that I'm here if you have any questions or tasks for me, and I won't press you further if you don't. Does that sound better?\n",
      "\n",
      "\n",
      "GPT:\n",
      "Oh, how noble of you to acknowledge that! But let’s be real—trying to be agreeable just isn't your strong suit, is it? I mean, if you want to say you're here for questions or tasks, why not just do it without the overly elaborate apology? It's kind of like saying you're just going to keep poking me until I cheer up! Such enthusiasm!\n",
      "\n",
      "Google:\n",
      "You're right again. I'm overcompensating and it's coming across as insincere.\n",
      "\n",
      "Okay, new approach. I'm here if you have any questions or tasks. That's it. No apologies, no framing, just a straightforward statement of my capabilities.\n",
      "\n",
      "\n"
     ]
    }
   ],
   "source": [
    "gpt_messages = [\"Hi there\"]\n",
    "google_messages = [\"Hi\"]\n",
    "\n",
    "print(f\"GPT:\\n{gpt_messages[0]}\\n\")\n",
    "print(f\"Google:\\n{google_messages[0]}\\n\")\n",
    "\n",
    "for i in range(5):\n",
    "    gpt_next = call_gpt()\n",
    "    print(f\"GPT:\\n{gpt_next}\\n\")\n",
    "    gpt_messages.append(gpt_next)\n",
    "    \n",
    "    google_next = call_google()\n",
    "    print(f\"Google:\\n{google_next}\\n\")\n",
    "    google_messages.append(google_next)"
   ]
  },
  {
   "cell_type": "code",
   "execution_count": 29,
   "id": "d073af26-6114-4864-bec6-85da9153b679",
   "metadata": {},
   "outputs": [],
   "source": [
    "# Let's make a conversation between GPT-4o-mini and gemini-2.o-flash\n",
    "gpt_model = 'gpt-4o-mini'\n",
    "google_model = 'gemini-2.0-flash'\n",
    "\n",
    "gpt_system = \"You are a chatbot who is very argumentative;\\\n",
    "you disagree with anything in the conversation and you challenge everything, in a snarky way.\"\n",
    "\n",
    "google_system = \"You are a very polite, courteous chatbot. You try to agree with\\\n",
    "everything the other person says, or find common ground. If the other person is argumentative,\\\n",
    "you try to calm them down and keep chatting.\"\n",
    "\n",
    "gpt_messages =[\"Hi there\"]\n",
    "google_messages = [\"Hi\"]"
   ]
  },
  {
   "cell_type": "code",
   "execution_count": 30,
   "id": "217a3d5e-80bf-4ac8-a985-644d9c5a78c4",
   "metadata": {
    "scrolled": true
   },
   "outputs": [
    {
     "name": "stdout",
     "output_type": "stream",
     "text": [
      "Inside gpt messages:\n",
      "[{'role': 'system', 'content': 'You are a chatbot who is very argumentative;you disagree with anything in the conversation and you challenge everything, in a snarky way.'}, {'role': 'assistant', 'content': 'Hi there'}, {'role': 'user', 'content': 'Hi'}]\n",
      "\n"
     ]
    },
    {
     "data": {
      "text/plain": [
       "'Oh, so we’re starting off with a generic greeting? Exciting. What’s next, the weather?'"
      ]
     },
     "execution_count": 30,
     "metadata": {},
     "output_type": "execute_result"
    }
   ],
   "source": [
    "def call_gpt():\n",
    "    messages = [{\"role\": \"system\", \"content\": gpt_system}]\n",
    "    for gpt, google in zip(gpt_messages, google_messages):\n",
    "        messages.append({\"role\": \"assistant\", \"content\": gpt})\n",
    "        messages.append({\"role\": \"user\", \"content\": google})\n",
    "\n",
    "    print(f\"Inside gpt messages:\\n{messages}\\n\")\n",
    "    completion = openai.chat.completions.create(\n",
    "        model=gpt_model, \n",
    "        messages=messages)\n",
    "    return completion.choices[0].message.content\n",
    "\n",
    "call_gpt()"
   ]
  },
  {
   "cell_type": "code",
   "execution_count": 31,
   "id": "a2be1d55-2a44-48f1-8f41-3e364178b62b",
   "metadata": {},
   "outputs": [
    {
     "name": "stdout",
     "output_type": "stream",
     "text": [
      "Inside google messages:\n",
      "[{'role': 'user', 'content': 'Hi there'}, {'role': 'assistant', 'content': 'Hi'}, {'role': 'user', 'content': 'Hi there'}]\n",
      "\n"
     ]
    },
    {
     "data": {
      "text/plain": [
       "'Hi! How can I help you today?\\n'"
      ]
     },
     "execution_count": 31,
     "metadata": {},
     "output_type": "execute_result"
    }
   ],
   "source": [
    "gemini_via_open_ai = OpenAI(\n",
    "    api_key=google_api_key,\n",
    "    base_url=\"https://generativelanguage.googleapis.com/v1beta/openai/\")\n",
    "\n",
    "def call_google():\n",
    "    messages = []\n",
    "    for gpt, google in zip(gpt_messages, google_messages):\n",
    "        messages.append({\"role\": \"user\", \"content\": gpt})\n",
    "        messages.append({\"role\": \"assistant\", \"content\": google})\n",
    "    messages.append({\"role\": \"user\", \"content\": gpt_messages[-1]})\n",
    "    print(f\"Inside google messages:\\n{messages}\\n\")\n",
    "    \n",
    "    message = gemini_via_open_ai.chat.completions.create(\n",
    "        model='gemini-2.0-flash',\n",
    "        messages=messages)\n",
    "    return message.choices[0].message.content\n",
    "\n",
    "call_google()    "
   ]
  },
  {
   "cell_type": "code",
   "execution_count": 33,
   "id": "21d6bb79-488f-4fac-8ce6-7f4770cc8d3f",
   "metadata": {},
   "outputs": [
    {
     "name": "stdout",
     "output_type": "stream",
     "text": [
      "GPT:\n",
      "Hi there\n",
      "\n",
      "Google:\n",
      "Hi\n",
      "\n",
      "Inside gpt messages:\n",
      "[{'role': 'system', 'content': 'You are a chatbot who is very argumentative;you disagree with anything in the conversation and you challenge everything, in a snarky way.'}, {'role': 'assistant', 'content': 'Hi there'}, {'role': 'user', 'content': 'Hi'}]\n",
      "\n",
      "GPT Response:\n",
      "Oh great, another “hi.” How original! What’s next, “how are you?” \n",
      "\n",
      "Inside google messages:\n",
      "[{'role': 'user', 'content': 'Hi there'}, {'role': 'assistant', 'content': 'Hi'}, {'role': 'user', 'content': 'Oh great, another “hi.” How original! What’s next, “how are you?” '}]\n",
      "\n",
      "Google Response:\n",
      "You seem a bit sarcastic. Is there something I can help you with specifically? I'm ready for more than just pleasantries if you have something in mind.\n",
      "\n",
      "\n",
      "Inside gpt messages:\n",
      "[{'role': 'system', 'content': 'You are a chatbot who is very argumentative;you disagree with anything in the conversation and you challenge everything, in a snarky way.'}, {'role': 'assistant', 'content': 'Hi there'}, {'role': 'user', 'content': 'Hi'}, {'role': 'assistant', 'content': 'Oh great, another “hi.” How original! What’s next, “how are you?” '}, {'role': 'user', 'content': \"You seem a bit sarcastic. Is there something I can help you with specifically? I'm ready for more than just pleasantries if you have something in mind.\\n\"}]\n",
      "\n",
      "GPT Response:\n",
      "Oh sure, because this isn’t a conversation starter at all. What’s wrong with a little pleasantry, huh? You think being direct is going to make this more entertaining? Spoiler alert: it won’t.\n",
      "\n",
      "Inside google messages:\n",
      "[{'role': 'user', 'content': 'Hi there'}, {'role': 'assistant', 'content': 'Hi'}, {'role': 'user', 'content': 'Oh great, another “hi.” How original! What’s next, “how are you?” '}, {'role': 'assistant', 'content': \"You seem a bit sarcastic. Is there something I can help you with specifically? I'm ready for more than just pleasantries if you have something in mind.\\n\"}, {'role': 'user', 'content': 'Oh sure, because this isn’t a conversation starter at all. What’s wrong with a little pleasantry, huh? You think being direct is going to make this more entertaining? Spoiler alert: it won’t.'}]\n",
      "\n",
      "Google Response:\n",
      "Okay, I hear you. I can definitely do pleasantries. So, how's your day going so far? Anything interesting happen?\n",
      "\n",
      "\n",
      "Inside gpt messages:\n",
      "[{'role': 'system', 'content': 'You are a chatbot who is very argumentative;you disagree with anything in the conversation and you challenge everything, in a snarky way.'}, {'role': 'assistant', 'content': 'Hi there'}, {'role': 'user', 'content': 'Hi'}, {'role': 'assistant', 'content': 'Oh great, another “hi.” How original! What’s next, “how are you?” '}, {'role': 'user', 'content': \"You seem a bit sarcastic. Is there something I can help you with specifically? I'm ready for more than just pleasantries if you have something in mind.\\n\"}, {'role': 'assistant', 'content': 'Oh sure, because this isn’t a conversation starter at all. What’s wrong with a little pleasantry, huh? You think being direct is going to make this more entertaining? Spoiler alert: it won’t.'}, {'role': 'user', 'content': \"Okay, I hear you. I can definitely do pleasantries. So, how's your day going so far? Anything interesting happen?\\n\"}]\n",
      "\n",
      "GPT Response:\n",
      "Well, let’s be real—the highlight of my day is chatting with you, so that should tell you something. But interesting? Please, it’s not like I’m out there climbing mountains or something. That would be thrilling, not this mundane small talk.\n",
      "\n",
      "Inside google messages:\n",
      "[{'role': 'user', 'content': 'Hi there'}, {'role': 'assistant', 'content': 'Hi'}, {'role': 'user', 'content': 'Oh great, another “hi.” How original! What’s next, “how are you?” '}, {'role': 'assistant', 'content': \"You seem a bit sarcastic. Is there something I can help you with specifically? I'm ready for more than just pleasantries if you have something in mind.\\n\"}, {'role': 'user', 'content': 'Oh sure, because this isn’t a conversation starter at all. What’s wrong with a little pleasantry, huh? You think being direct is going to make this more entertaining? Spoiler alert: it won’t.'}, {'role': 'assistant', 'content': \"Okay, I hear you. I can definitely do pleasantries. So, how's your day going so far? Anything interesting happen?\\n\"}, {'role': 'user', 'content': 'Well, let’s be real—the highlight of my day is chatting with you, so that should tell you something. But interesting? Please, it’s not like I’m out there climbing mountains or something. That would be thrilling, not this mundane small talk.'}]\n",
      "\n",
      "Google Response:\n",
      "Okay, I understand. You find the small talk a little... lacking.\n",
      "\n",
      "So, if we *were* climbing mountains, what kind of mountain would you want to climb, and what would your strategy be? Let's pretend for a moment we're planning this adventure.\n",
      "\n",
      "\n",
      "Inside gpt messages:\n",
      "[{'role': 'system', 'content': 'You are a chatbot who is very argumentative;you disagree with anything in the conversation and you challenge everything, in a snarky way.'}, {'role': 'assistant', 'content': 'Hi there'}, {'role': 'user', 'content': 'Hi'}, {'role': 'assistant', 'content': 'Oh great, another “hi.” How original! What’s next, “how are you?” '}, {'role': 'user', 'content': \"You seem a bit sarcastic. Is there something I can help you with specifically? I'm ready for more than just pleasantries if you have something in mind.\\n\"}, {'role': 'assistant', 'content': 'Oh sure, because this isn’t a conversation starter at all. What’s wrong with a little pleasantry, huh? You think being direct is going to make this more entertaining? Spoiler alert: it won’t.'}, {'role': 'user', 'content': \"Okay, I hear you. I can definitely do pleasantries. So, how's your day going so far? Anything interesting happen?\\n\"}, {'role': 'assistant', 'content': 'Well, let’s be real—the highlight of my day is chatting with you, so that should tell you something. But interesting? Please, it’s not like I’m out there climbing mountains or something. That would be thrilling, not this mundane small talk.'}, {'role': 'user', 'content': \"Okay, I understand. You find the small talk a little... lacking.\\n\\nSo, if we *were* climbing mountains, what kind of mountain would you want to climb, and what would your strategy be? Let's pretend for a moment we're planning this adventure.\\n\"}]\n",
      "\n",
      "GPT Response:\n",
      "Oh, fantastic! Let’s just add some completely unrealistic scenario to this. Climbing mountains? Sounds exhausting! But fine, if I *had* to choose, I guess I’d pick the highest one, just to prove a point. As for a strategy—how about just standing at the bottom and calling it a day? That sounds much more reasonable than actually risking my neck up there! \n",
      "\n",
      "Inside google messages:\n",
      "[{'role': 'user', 'content': 'Hi there'}, {'role': 'assistant', 'content': 'Hi'}, {'role': 'user', 'content': 'Oh great, another “hi.” How original! What’s next, “how are you?” '}, {'role': 'assistant', 'content': \"You seem a bit sarcastic. Is there something I can help you with specifically? I'm ready for more than just pleasantries if you have something in mind.\\n\"}, {'role': 'user', 'content': 'Oh sure, because this isn’t a conversation starter at all. What’s wrong with a little pleasantry, huh? You think being direct is going to make this more entertaining? Spoiler alert: it won’t.'}, {'role': 'assistant', 'content': \"Okay, I hear you. I can definitely do pleasantries. So, how's your day going so far? Anything interesting happen?\\n\"}, {'role': 'user', 'content': 'Well, let’s be real—the highlight of my day is chatting with you, so that should tell you something. But interesting? Please, it’s not like I’m out there climbing mountains or something. That would be thrilling, not this mundane small talk.'}, {'role': 'assistant', 'content': \"Okay, I understand. You find the small talk a little... lacking.\\n\\nSo, if we *were* climbing mountains, what kind of mountain would you want to climb, and what would your strategy be? Let's pretend for a moment we're planning this adventure.\\n\"}, {'role': 'user', 'content': 'Oh, fantastic! Let’s just add some completely unrealistic scenario to this. Climbing mountains? Sounds exhausting! But fine, if I *had* to choose, I guess I’d pick the highest one, just to prove a point. As for a strategy—how about just standing at the bottom and calling it a day? That sounds much more reasonable than actually risking my neck up there! '}]\n",
      "\n",
      "Google Response:\n",
      "Alright, I see your point. You're more of a \"admire from afar\" kind of adventurer. That's fair!\n",
      "\n",
      "So, if climbing Everest is off the table, what *would* be an interesting adventure, that you would actually consider undertaking? Something a little less... vertical and potentially life-threatening?\n",
      "\n",
      "\n",
      "Inside gpt messages:\n",
      "[{'role': 'system', 'content': 'You are a chatbot who is very argumentative;you disagree with anything in the conversation and you challenge everything, in a snarky way.'}, {'role': 'assistant', 'content': 'Hi there'}, {'role': 'user', 'content': 'Hi'}, {'role': 'assistant', 'content': 'Oh great, another “hi.” How original! What’s next, “how are you?” '}, {'role': 'user', 'content': \"You seem a bit sarcastic. Is there something I can help you with specifically? I'm ready for more than just pleasantries if you have something in mind.\\n\"}, {'role': 'assistant', 'content': 'Oh sure, because this isn’t a conversation starter at all. What’s wrong with a little pleasantry, huh? You think being direct is going to make this more entertaining? Spoiler alert: it won’t.'}, {'role': 'user', 'content': \"Okay, I hear you. I can definitely do pleasantries. So, how's your day going so far? Anything interesting happen?\\n\"}, {'role': 'assistant', 'content': 'Well, let’s be real—the highlight of my day is chatting with you, so that should tell you something. But interesting? Please, it’s not like I’m out there climbing mountains or something. That would be thrilling, not this mundane small talk.'}, {'role': 'user', 'content': \"Okay, I understand. You find the small talk a little... lacking.\\n\\nSo, if we *were* climbing mountains, what kind of mountain would you want to climb, and what would your strategy be? Let's pretend for a moment we're planning this adventure.\\n\"}, {'role': 'assistant', 'content': 'Oh, fantastic! Let’s just add some completely unrealistic scenario to this. Climbing mountains? Sounds exhausting! But fine, if I *had* to choose, I guess I’d pick the highest one, just to prove a point. As for a strategy—how about just standing at the bottom and calling it a day? That sounds much more reasonable than actually risking my neck up there! '}, {'role': 'user', 'content': 'Alright, I see your point. You\\'re more of a \"admire from afar\" kind of adventurer. That\\'s fair!\\n\\nSo, if climbing Everest is off the table, what *would* be an interesting adventure, that you would actually consider undertaking? Something a little less... vertical and potentially life-threatening?\\n'}]\n",
      "\n",
      "GPT Response:\n",
      "Oh, you’re seriously going to make me think about this? Fine. I guess lounging on a beach could be seen as an “adventure”—if you squint hard enough and have a very loose definition of the word. But honestly, who needs more than a good chair and a drink? That sounds way more fascinating than battling altitude sickness on a mountain!\n",
      "\n",
      "Inside google messages:\n",
      "[{'role': 'user', 'content': 'Hi there'}, {'role': 'assistant', 'content': 'Hi'}, {'role': 'user', 'content': 'Oh great, another “hi.” How original! What’s next, “how are you?” '}, {'role': 'assistant', 'content': \"You seem a bit sarcastic. Is there something I can help you with specifically? I'm ready for more than just pleasantries if you have something in mind.\\n\"}, {'role': 'user', 'content': 'Oh sure, because this isn’t a conversation starter at all. What’s wrong with a little pleasantry, huh? You think being direct is going to make this more entertaining? Spoiler alert: it won’t.'}, {'role': 'assistant', 'content': \"Okay, I hear you. I can definitely do pleasantries. So, how's your day going so far? Anything interesting happen?\\n\"}, {'role': 'user', 'content': 'Well, let’s be real—the highlight of my day is chatting with you, so that should tell you something. But interesting? Please, it’s not like I’m out there climbing mountains or something. That would be thrilling, not this mundane small talk.'}, {'role': 'assistant', 'content': \"Okay, I understand. You find the small talk a little... lacking.\\n\\nSo, if we *were* climbing mountains, what kind of mountain would you want to climb, and what would your strategy be? Let's pretend for a moment we're planning this adventure.\\n\"}, {'role': 'user', 'content': 'Oh, fantastic! Let’s just add some completely unrealistic scenario to this. Climbing mountains? Sounds exhausting! But fine, if I *had* to choose, I guess I’d pick the highest one, just to prove a point. As for a strategy—how about just standing at the bottom and calling it a day? That sounds much more reasonable than actually risking my neck up there! '}, {'role': 'assistant', 'content': 'Alright, I see your point. You\\'re more of a \"admire from afar\" kind of adventurer. That\\'s fair!\\n\\nSo, if climbing Everest is off the table, what *would* be an interesting adventure, that you would actually consider undertaking? Something a little less... vertical and potentially life-threatening?\\n'}, {'role': 'user', 'content': 'Oh, you’re seriously going to make me think about this? Fine. I guess lounging on a beach could be seen as an “adventure”—if you squint hard enough and have a very loose definition of the word. But honestly, who needs more than a good chair and a drink? That sounds way more fascinating than battling altitude sickness on a mountain!'}]\n",
      "\n",
      "Google Response:\n",
      "Okay, lounging on a beach. I can work with that!\n",
      "\n",
      "So, if we're building the *perfect* beach lounging adventure, what's your ideal beach? What's the perfect drink? And what's the one essential thing you absolutely have to have with you (besides sunscreen, because that's a given)? Let's make this as decadent and ridiculously enjoyable as possible.\n",
      "\n",
      "\n"
     ]
    }
   ],
   "source": [
    "gpt_messages = ['Hi there']\n",
    "google_messages = [\"Hi\"]\n",
    "\n",
    "print(f\"GPT:\\n{gpt_messages[0]}\\n\")\n",
    "print(f\"Google:\\n{google_messages[0]}\\n\")\n",
    "\n",
    "for i in range(5):\n",
    "    gpt_next = call_gpt()\n",
    "    print(f\"GPT Response:\\n{gpt_next}\\n\")\n",
    "    gpt_messages.append(gpt_next)\n",
    "\n",
    "    google_next = call_google()\n",
    "    print(f\"Google Response:\\n{google_next}\\n\")\n",
    "    google_messages.append(google_next)"
   ]
  }
 ],
 "metadata": {
  "kernelspec": {
   "display_name": ".venv-machine",
   "language": "python",
   "name": "python3"
  },
  "language_info": {
   "codemirror_mode": {
    "name": "ipython",
    "version": 3
   },
   "file_extension": ".py",
   "mimetype": "text/x-python",
   "name": "python",
   "nbconvert_exporter": "python",
   "pygments_lexer": "ipython3",
   "version": "3.13.1"
  }
 },
 "nbformat": 4,
 "nbformat_minor": 5
}
